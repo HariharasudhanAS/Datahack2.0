{
  "nbformat": 4,
  "nbformat_minor": 0,
  "metadata": {
    "colab": {
      "name": "DataHack.ipynb",
      "version": "0.3.2",
      "provenance": [],
      "collapsed_sections": []
    },
    "kernelspec": {
      "name": "python3",
      "display_name": "Python 3"
    },
    "accelerator": "GPU"
  },
  "cells": [
    {
      "metadata": {
        "id": "4CYibBawRuAI",
        "colab_type": "text"
      },
      "cell_type": "markdown",
      "source": [
        "## General"
      ]
    },
    {
      "metadata": {
        "id": "hhYma_6FSRkR",
        "colab_type": "code",
        "outputId": "07bab757-6270-40b9-ad11-cbc6e87b7f7d",
        "colab": {
          "base_uri": "https://localhost:8080/",
          "height": 52
        }
      },
      "cell_type": "code",
      "source": [
        "import pandas as pd\n",
        "import numpy as np\n",
        "from sklearn.feature_extraction.text import TfidfVectorizer, CountVectorizer\n",
        "from sklearn.linear_model import LogisticRegression\n",
        "from sklearn.model_selection import train_test_split\n",
        "import nltk\n",
        "nltk.download('stopwords')\n",
        "from nltk import word_tokenize\n",
        "from nltk.corpus import stopwords\n",
        "stop_words = stopwords.words('english')"
      ],
      "execution_count": 0,
      "outputs": [
        {
          "output_type": "stream",
          "text": [
            "[nltk_data] Downloading package stopwords to /root/nltk_data...\n",
            "[nltk_data]   Package stopwords is already up-to-date!\n"
          ],
          "name": "stdout"
        }
      ]
    },
    {
      "metadata": {
        "id": "pbyWrr0sgjtP",
        "colab_type": "code",
        "outputId": "dab3ff89-63b8-4210-aaae-29968b11137d",
        "colab": {
          "base_uri": "https://localhost:8080/",
          "height": 34
        }
      },
      "cell_type": "code",
      "source": [
        "import pandas as pd\n",
        "import numpy as np\n",
        "import xgboost as xgb\n",
        "from tqdm import tqdm\n",
        "from sklearn.svm import SVC\n",
        "from keras.models import Sequential\n",
        "from keras.layers.recurrent import LSTM, GRU\n",
        "from keras.layers.core import Dense, Activation, Dropout\n",
        "from keras.layers.embeddings import Embedding\n",
        "from keras.layers.normalization import BatchNormalization\n",
        "from keras.utils import np_utils\n",
        "from sklearn import preprocessing, decomposition, model_selection, metrics, pipeline\n",
        "from sklearn.model_selection import GridSearchCV\n",
        "from sklearn.feature_extraction.text import TfidfVectorizer, CountVectorizer\n",
        "from sklearn.decomposition import TruncatedSVD\n",
        "from sklearn.linear_model import LogisticRegression\n",
        "from sklearn.model_selection import train_test_split\n",
        "from sklearn.naive_bayes import MultinomialNB\n",
        "from keras.layers import GlobalMaxPooling1D, Conv1D, MaxPooling1D, Flatten, Bidirectional, SpatialDropout1D\n",
        "from keras.preprocessing import sequence, text\n",
        "from keras.callbacks import EarlyStopping\n",
        "from nltk import word_tokenize\n",
        "from nltk.corpus import stopwords\n",
        "stop_words = stopwords.words('english')"
      ],
      "execution_count": 0,
      "outputs": [
        {
          "output_type": "stream",
          "text": [
            "Using TensorFlow backend.\n"
          ],
          "name": "stderr"
        }
      ]
    },
    {
      "metadata": {
        "id": "lVmavgn_YbbC",
        "colab_type": "code",
        "colab": {}
      },
      "cell_type": "code",
      "source": [
        "from sklearn.metrics import f1_score as loss"
      ],
      "execution_count": 0,
      "outputs": []
    },
    {
      "metadata": {
        "id": "2QdfgZoRcaiI",
        "colab_type": "code",
        "colab": {}
      },
      "cell_type": "code",
      "source": [
        "import warnings\n",
        "warnings.filterwarnings(\"ignore\")"
      ],
      "execution_count": 0,
      "outputs": []
    },
    {
      "metadata": {
        "id": "NyKsrjsATBac",
        "colab_type": "code",
        "colab": {}
      },
      "cell_type": "code",
      "source": [
        "df_train_raw = pd.read_csv(\"./Data/Train.csv\")\n",
        "df_test_raw = pd.read_csv(\"./Data/Test.csv\")"
      ],
      "execution_count": 0,
      "outputs": []
    },
    {
      "metadata": {
        "id": "4GOTSJl_WYRG",
        "colab_type": "code",
        "outputId": "936e166d-613f-41db-e433-2e5bd31bcf3c",
        "colab": {
          "base_uri": "https://localhost:8080/",
          "height": 363
        }
      },
      "cell_type": "code",
      "source": [
        "df_train_raw.head(10)"
      ],
      "execution_count": 0,
      "outputs": [
        {
          "output_type": "execute_result",
          "data": {
            "text/html": [
              "<div>\n",
              "<style scoped>\n",
              "    .dataframe tbody tr th:only-of-type {\n",
              "        vertical-align: middle;\n",
              "    }\n",
              "\n",
              "    .dataframe tbody tr th {\n",
              "        vertical-align: top;\n",
              "    }\n",
              "\n",
              "    .dataframe thead th {\n",
              "        text-align: right;\n",
              "    }\n",
              "</style>\n",
              "<table border=\"1\" class=\"dataframe\">\n",
              "  <thead>\n",
              "    <tr style=\"text-align: right;\">\n",
              "      <th></th>\n",
              "      <th>Unnamed: 0</th>\n",
              "      <th>TEXT</th>\n",
              "      <th>Label</th>\n",
              "    </tr>\n",
              "  </thead>\n",
              "  <tbody>\n",
              "    <tr>\n",
              "      <th>0</th>\n",
              "      <td>0</td>\n",
              "      <td>Vacation wasted ! #vacation2017 #photobomb #ti...</td>\n",
              "      <td>0</td>\n",
              "    </tr>\n",
              "    <tr>\n",
              "      <th>1</th>\n",
              "      <td>1</td>\n",
              "      <td>Oh Wynwood, you’re so funny! : @user #Wynwood ...</td>\n",
              "      <td>1</td>\n",
              "    </tr>\n",
              "    <tr>\n",
              "      <th>2</th>\n",
              "      <td>2</td>\n",
              "      <td>Been friends since 7th grade. Look at us now w...</td>\n",
              "      <td>2</td>\n",
              "    </tr>\n",
              "    <tr>\n",
              "      <th>3</th>\n",
              "      <td>3</td>\n",
              "      <td>This is what it looks like when someone loves ...</td>\n",
              "      <td>3</td>\n",
              "    </tr>\n",
              "    <tr>\n",
              "      <th>4</th>\n",
              "      <td>4</td>\n",
              "      <td>RT @user this white family was invited to a Bl...</td>\n",
              "      <td>3</td>\n",
              "    </tr>\n",
              "    <tr>\n",
              "      <th>5</th>\n",
              "      <td>5</td>\n",
              "      <td>TRACK SEASON 2016, I'M READY FOR YA @ Universi...</td>\n",
              "      <td>4</td>\n",
              "    </tr>\n",
              "    <tr>\n",
              "      <th>6</th>\n",
              "      <td>6</td>\n",
              "      <td>Merry Christmas you filthy little animals. Wea...</td>\n",
              "      <td>5</td>\n",
              "    </tr>\n",
              "    <tr>\n",
              "      <th>7</th>\n",
              "      <td>7</td>\n",
              "      <td>Westenders @user #LAZzNation @ Weston, Toronto\\n</td>\n",
              "      <td>6</td>\n",
              "    </tr>\n",
              "    <tr>\n",
              "      <th>8</th>\n",
              "      <td>8</td>\n",
              "      <td>Maxwell heads home @ Summa Akron City Hospital\\n</td>\n",
              "      <td>2</td>\n",
              "    </tr>\n",
              "    <tr>\n",
              "      <th>9</th>\n",
              "      <td>9</td>\n",
              "      <td>Story On Saturday 136 Collins Ave, Miami Beach...</td>\n",
              "      <td>7</td>\n",
              "    </tr>\n",
              "  </tbody>\n",
              "</table>\n",
              "</div>"
            ],
            "text/plain": [
              "   Unnamed: 0                                               TEXT  Label\n",
              "0           0  Vacation wasted ! #vacation2017 #photobomb #ti...      0\n",
              "1           1  Oh Wynwood, you’re so funny! : @user #Wynwood ...      1\n",
              "2           2  Been friends since 7th grade. Look at us now w...      2\n",
              "3           3  This is what it looks like when someone loves ...      3\n",
              "4           4  RT @user this white family was invited to a Bl...      3\n",
              "5           5  TRACK SEASON 2016, I'M READY FOR YA @ Universi...      4\n",
              "6           6  Merry Christmas you filthy little animals. Wea...      5\n",
              "7           7   Westenders @user #LAZzNation @ Weston, Toronto\\n      6\n",
              "8           8   Maxwell heads home @ Summa Akron City Hospital\\n      2\n",
              "9           9  Story On Saturday 136 Collins Ave, Miami Beach...      7"
            ]
          },
          "metadata": {
            "tags": []
          },
          "execution_count": 6
        }
      ]
    },
    {
      "metadata": {
        "id": "FztdGpcUWa7c",
        "colab_type": "code",
        "outputId": "d418629e-d788-4cb0-eda6-91751c59af14",
        "colab": {
          "base_uri": "https://localhost:8080/",
          "height": 363
        }
      },
      "cell_type": "code",
      "source": [
        "df_test_raw.head(10)"
      ],
      "execution_count": 0,
      "outputs": [
        {
          "output_type": "execute_result",
          "data": {
            "text/html": [
              "<div>\n",
              "<style scoped>\n",
              "    .dataframe tbody tr th:only-of-type {\n",
              "        vertical-align: middle;\n",
              "    }\n",
              "\n",
              "    .dataframe tbody tr th {\n",
              "        vertical-align: top;\n",
              "    }\n",
              "\n",
              "    .dataframe thead th {\n",
              "        text-align: right;\n",
              "    }\n",
              "</style>\n",
              "<table border=\"1\" class=\"dataframe\">\n",
              "  <thead>\n",
              "    <tr style=\"text-align: right;\">\n",
              "      <th></th>\n",
              "      <th>Unnamed: 0</th>\n",
              "      <th>id</th>\n",
              "      <th>TEXT</th>\n",
              "    </tr>\n",
              "  </thead>\n",
              "  <tbody>\n",
              "    <tr>\n",
              "      <th>0</th>\n",
              "      <td>0</td>\n",
              "      <td>0</td>\n",
              "      <td>Thought this was cool...#Repost (get_repost)・・...</td>\n",
              "    </tr>\n",
              "    <tr>\n",
              "      <th>1</th>\n",
              "      <td>1</td>\n",
              "      <td>1</td>\n",
              "      <td>Happy 4th! Corte madera parade. #everytownusa ...</td>\n",
              "    </tr>\n",
              "    <tr>\n",
              "      <th>2</th>\n",
              "      <td>2</td>\n",
              "      <td>2</td>\n",
              "      <td>Luv. Or at least something close to it. @ Unio...</td>\n",
              "    </tr>\n",
              "    <tr>\n",
              "      <th>3</th>\n",
              "      <td>3</td>\n",
              "      <td>3</td>\n",
              "      <td>There's a slice of pie under that whipped crea...</td>\n",
              "    </tr>\n",
              "    <tr>\n",
              "      <th>4</th>\n",
              "      <td>5</td>\n",
              "      <td>5</td>\n",
              "      <td>#thankyou for your thank you We adore you both...</td>\n",
              "    </tr>\n",
              "    <tr>\n",
              "      <th>5</th>\n",
              "      <td>6</td>\n",
              "      <td>6</td>\n",
              "      <td>the SPECIAL4U Lyric video will be posted on my...</td>\n",
              "    </tr>\n",
              "    <tr>\n",
              "      <th>6</th>\n",
              "      <td>7</td>\n",
              "      <td>7</td>\n",
              "      <td>Momma Tanya's In town ! Awesome dinner @user w...</td>\n",
              "    </tr>\n",
              "    <tr>\n",
              "      <th>7</th>\n",
              "      <td>8</td>\n",
              "      <td>8</td>\n",
              "      <td>Thing 1 and Thing 2 @ Huron, Ohio\\n</td>\n",
              "    </tr>\n",
              "    <tr>\n",
              "      <th>8</th>\n",
              "      <td>10</td>\n",
              "      <td>10</td>\n",
              "      <td>Bday girl and some random @ Sheraton New York ...</td>\n",
              "    </tr>\n",
              "    <tr>\n",
              "      <th>9</th>\n",
              "      <td>11</td>\n",
              "      <td>11</td>\n",
              "      <td>Always fun with my forever wedding date Congra...</td>\n",
              "    </tr>\n",
              "  </tbody>\n",
              "</table>\n",
              "</div>"
            ],
            "text/plain": [
              "   Unnamed: 0  id                                               TEXT\n",
              "0           0   0  Thought this was cool...#Repost (get_repost)・・...\n",
              "1           1   1  Happy 4th! Corte madera parade. #everytownusa ...\n",
              "2           2   2  Luv. Or at least something close to it. @ Unio...\n",
              "3           3   3  There's a slice of pie under that whipped crea...\n",
              "4           5   5  #thankyou for your thank you We adore you both...\n",
              "5           6   6  the SPECIAL4U Lyric video will be posted on my...\n",
              "6           7   7  Momma Tanya's In town ! Awesome dinner @user w...\n",
              "7           8   8                Thing 1 and Thing 2 @ Huron, Ohio\\n\n",
              "8          10  10  Bday girl and some random @ Sheraton New York ...\n",
              "9          11  11  Always fun with my forever wedding date Congra..."
            ]
          },
          "metadata": {
            "tags": []
          },
          "execution_count": 7
        }
      ]
    },
    {
      "metadata": {
        "id": "ap2UTnTMWeOI",
        "colab_type": "code",
        "colab": {}
      },
      "cell_type": "code",
      "source": [
        "df_test_raw.drop(\"Unnamed: 0\", axis=1, inplace=True)\n",
        "df_train_raw.drop(\"Unnamed: 0\", axis=1, inplace=True)"
      ],
      "execution_count": 0,
      "outputs": []
    },
    {
      "metadata": {
        "id": "FPM_8H_BWDd0",
        "colab_type": "code",
        "colab": {}
      },
      "cell_type": "code",
      "source": [
        "y = df_train_raw[\"Label\"]\n",
        "df_new = df_train_raw.drop(\"Label\", axis=1)"
      ],
      "execution_count": 0,
      "outputs": []
    },
    {
      "metadata": {
        "id": "HvgmaVXZY-Kc",
        "colab_type": "code",
        "outputId": "31634acf-08c6-44cc-f5c5-953a7c6e26af",
        "colab": {
          "base_uri": "https://localhost:8080/",
          "height": 34
        }
      },
      "cell_type": "code",
      "source": [
        "df_new.shape"
      ],
      "execution_count": 0,
      "outputs": [
        {
          "output_type": "execute_result",
          "data": {
            "text/plain": [
              "(70000, 1)"
            ]
          },
          "metadata": {
            "tags": []
          },
          "execution_count": 10
        }
      ]
    },
    {
      "metadata": {
        "id": "lZURhz-OXER5",
        "colab_type": "code",
        "outputId": "a0e0dfc5-0a26-4aa3-c404-abbc69bcf4c5",
        "colab": {
          "base_uri": "https://localhost:8080/",
          "height": 34
        }
      },
      "cell_type": "code",
      "source": [
        "len(df_train_raw)"
      ],
      "execution_count": 0,
      "outputs": [
        {
          "output_type": "execute_result",
          "data": {
            "text/plain": [
              "70000"
            ]
          },
          "metadata": {
            "tags": []
          },
          "execution_count": 11
        }
      ]
    },
    {
      "metadata": {
        "id": "oZmN0iNBYzEb",
        "colab_type": "code",
        "outputId": "437d4126-d1fb-478e-8888-41f0f9b8f8a0",
        "colab": {
          "base_uri": "https://localhost:8080/",
          "height": 168
        }
      },
      "cell_type": "code",
      "source": [
        "print(x_train.shape, y_train.shape)"
      ],
      "execution_count": 0,
      "outputs": [
        {
          "output_type": "error",
          "ename": "NameError",
          "evalue": "ignored",
          "traceback": [
            "\u001b[0;31m---------------------------------------------------------------------------\u001b[0m",
            "\u001b[0;31mNameError\u001b[0m                                 Traceback (most recent call last)",
            "\u001b[0;32m<ipython-input-14-1e51df73941e>\u001b[0m in \u001b[0;36m<module>\u001b[0;34m()\u001b[0m\n\u001b[0;32m----> 1\u001b[0;31m \u001b[0mprint\u001b[0m\u001b[0;34m(\u001b[0m\u001b[0mx_train\u001b[0m\u001b[0;34m.\u001b[0m\u001b[0mshape\u001b[0m\u001b[0;34m,\u001b[0m \u001b[0my_train\u001b[0m\u001b[0;34m.\u001b[0m\u001b[0mshape\u001b[0m\u001b[0;34m)\u001b[0m\u001b[0;34m\u001b[0m\u001b[0;34m\u001b[0m\u001b[0m\n\u001b[0m",
            "\u001b[0;31mNameError\u001b[0m: name 'x_train' is not defined"
          ]
        }
      ]
    },
    {
      "metadata": {
        "id": "F8-P0QbbaFIR",
        "colab_type": "code",
        "colab": {}
      },
      "cell_type": "code",
      "source": [
        "xtrain, xvalid, ytrain, yvalid = train_test_split(df_new.TEXT.values, y, \n",
        "                                                  random_state=42, \n",
        "                                                  test_size=0.3, shuffle=True)"
      ],
      "execution_count": 0,
      "outputs": []
    },
    {
      "metadata": {
        "id": "J6NT-_1Ye2pz",
        "colab_type": "text"
      },
      "cell_type": "markdown",
      "source": [
        "## CountVectorize"
      ]
    },
    {
      "metadata": {
        "id": "-_yVaepYbaat",
        "colab_type": "code",
        "outputId": "52f96d2e-3205-4356-ca10-f236ef76ada9",
        "colab": {
          "base_uri": "https://localhost:8080/",
          "height": 121
        }
      },
      "cell_type": "code",
      "source": [
        "ctv = CountVectorizer(analyzer='word',token_pattern=r'\\w{1,}',\n",
        "            ngram_range=(1, 3), stop_words = 'english')\n",
        "ctv.fit(list(xtrain) + list(xvalid))"
      ],
      "execution_count": 0,
      "outputs": [
        {
          "output_type": "execute_result",
          "data": {
            "text/plain": [
              "CountVectorizer(analyzer='word', binary=False, decode_error='strict',\n",
              "        dtype=<class 'numpy.int64'>, encoding='utf-8', input='content',\n",
              "        lowercase=True, max_df=1.0, max_features=None, min_df=1,\n",
              "        ngram_range=(1, 3), preprocessor=None, stop_words='english',\n",
              "        strip_accents=None, token_pattern='\\\\w{1,}', tokenizer=None,\n",
              "        vocabulary=None)"
            ]
          },
          "metadata": {
            "tags": []
          },
          "execution_count": 13
        }
      ]
    },
    {
      "metadata": {
        "id": "kFPRHVlgboyX",
        "colab_type": "code",
        "colab": {}
      },
      "cell_type": "code",
      "source": [
        "xtrain_ctv =  ctv.transform(xtrain) \n",
        "xvalid_ctv = ctv.transform(xvalid)"
      ],
      "execution_count": 0,
      "outputs": []
    },
    {
      "metadata": {
        "id": "SRPW5rCebrlj",
        "colab_type": "code",
        "outputId": "8955713f-8d28-4631-b10c-13eadd31e71f",
        "colab": {
          "base_uri": "https://localhost:8080/",
          "height": 34
        }
      },
      "cell_type": "code",
      "source": [
        "np.shape(xtrain_ctv)"
      ],
      "execution_count": 0,
      "outputs": [
        {
          "output_type": "execute_result",
          "data": {
            "text/plain": [
              "(49000, 736444)"
            ]
          },
          "metadata": {
            "tags": []
          },
          "execution_count": 15
        }
      ]
    },
    {
      "metadata": {
        "id": "urge2YjYbuIr",
        "colab_type": "code",
        "colab": {}
      },
      "cell_type": "code",
      "source": [
        "clf = LogisticRegression(C=1.0)\n",
        "clf.fit(xtrain_ctv, ytrain)\n",
        "predictions = clf.predict_proba(xvalid_ctv)"
      ],
      "execution_count": 0,
      "outputs": []
    },
    {
      "metadata": {
        "id": "DVXYDdBdc15W",
        "colab_type": "code",
        "colab": {}
      },
      "cell_type": "code",
      "source": [
        "print (\"f1loss: %0.3f \" % loss(yvalid, np.argmax(predictions, axis=1), average='macro'))"
      ],
      "execution_count": 0,
      "outputs": []
    },
    {
      "metadata": {
        "id": "yAvnFS0Ceinq",
        "colab_type": "text"
      },
      "cell_type": "markdown",
      "source": [
        "## Tfidf Vectorizer"
      ]
    },
    {
      "metadata": {
        "id": "VLwjLAN8eldC",
        "colab_type": "code",
        "colab": {}
      },
      "cell_type": "code",
      "source": [
        "tfv = TfidfVectorizer(min_df=3,  max_features=None, \n",
        "            strip_accents='unicode', analyzer='word',token_pattern=r'\\w{1,}',\n",
        "            ngram_range=(1, 3), use_idf=1,smooth_idf=1,sublinear_tf=1,\n",
        "            stop_words = 'english')"
      ],
      "execution_count": 0,
      "outputs": []
    },
    {
      "metadata": {
        "id": "OirnrN2We-XQ",
        "colab_type": "code",
        "colab": {}
      },
      "cell_type": "code",
      "source": [
        "tfv.fit(list(xtrain) + list(xvalid))\n",
        "xtrain_tfv =  tfv.transform(xtrain) \n",
        "xvalid_tfv = tfv.transform(xvalid)"
      ],
      "execution_count": 0,
      "outputs": []
    },
    {
      "metadata": {
        "id": "24WJPVdJe-8G",
        "colab_type": "code",
        "colab": {}
      },
      "cell_type": "code",
      "source": [
        "clf = LogisticRegression(C=1.0)\n",
        "clf.fit(xtrain_tfv, ytrain)\n",
        "predictions = clf.predict_proba(xvalid_tfv)\n",
        "\n",
        "print (\"loss: %0.3f \" % loss(yvalid, np.argmax(predictions, axis=1), average='macro'))"
      ],
      "execution_count": 0,
      "outputs": []
    },
    {
      "metadata": {
        "id": "Wnk07x-LfTPM",
        "colab_type": "text"
      },
      "cell_type": "markdown",
      "source": [
        "## Naive Bayes"
      ]
    },
    {
      "metadata": {
        "id": "ZoIGfUkNfI5W",
        "colab_type": "code",
        "colab": {}
      },
      "cell_type": "code",
      "source": [
        "# Fitting a simple Naive Bayes on TFIDF\n",
        "from sklearn.naive_bayes import MultinomialNB\n",
        "clf = MultinomialNB()\n",
        "clf.fit(xtrain_tfv, ytrain)\n",
        "predictions = clf.predict_proba(xvalid_tfv)\n",
        "\n",
        "print (\"loss: %0.3f \" % loss(yvalid, np.argmax(predictions, axis=1), average='macro'))"
      ],
      "execution_count": 0,
      "outputs": []
    },
    {
      "metadata": {
        "id": "60QoxhvlgDMW",
        "colab_type": "code",
        "colab": {}
      },
      "cell_type": "code",
      "source": [
        "clf = MultinomialNB()\n",
        "clf.fit(xtrain_ctv, ytrain)\n",
        "predictions = clf.predict_proba(xvalid_ctv)\n",
        "\n",
        "print (\"loss: %0.3f \" % loss(yvalid, np.argmax(predictions, axis=1), average='macro'))"
      ],
      "execution_count": 0,
      "outputs": []
    },
    {
      "metadata": {
        "id": "wGG83UXUn8YB",
        "colab_type": "text"
      },
      "cell_type": "markdown",
      "source": [
        "## Deep Learning prep"
      ]
    },
    {
      "metadata": {
        "id": "bO1_4JrpoaCE",
        "colab_type": "code",
        "outputId": "6c3052e5-de35-4c01-dbeb-6892e5b0f03e",
        "colab": {
          "base_uri": "https://localhost:8080/",
          "height": 228
        }
      },
      "cell_type": "code",
      "source": [
        "!wget --header 'Host: storage.googleapis.com' --user-agent 'Mozilla/5.0 (X11; Ubuntu; Linux x86_64; rv:66.0) Gecko/20100101 Firefox/66.0' --header 'Accept: text/html,application/xhtml+xml,application/xml;q=0.9,*/*;q=0.8' --header 'Accept-Language: en-US,en;q=0.5' --referer 'https://www.kaggle.com/' --header 'DNT: 1' --header 'Upgrade-Insecure-Requests: 1' 'https://storage.googleapis.com/kaggle-datasets/12809/17485/glove-stanford.zip?GoogleAccessId=web-data@kaggle-161607.iam.gserviceaccount.com&Expires=1549964964&Signature=daDK%2BYaMzHbexfKyvBxrpJGG9uGEgKcpgBgTuWXMw1g1b%2BvkwHK3W%2BBvBpPi34XlzI0l26K%2F3aeVhCwrnAUt8gFtLopq9XFytAr%2BKUyjcGQLTpUXgXfwmyNgDhFJyq5h3MwFGfrjcdfFipOX1C1%2B0pO0GFGNkudlM6RAgGyeU7F8Uadl1Utk%2BR8ryTlp200ukmDh0ViRBcryVTuqqS9BTsErIOxg7NOO9yFG%2FvA5ZQlQ232O1jxRt8CHptiQ3Lj9LgGdbm3m6LBZw3Pl%2F5mKkHilxd29X%2Fidrv%2FIAJZ2K53Iq7TWTuBTE1OFdSg1Q%2Fzi21M6YhGL5MRvmrxt9nph0Q%3D%3D' --output-document 'glove-stanford.zip'"
      ],
      "execution_count": 0,
      "outputs": [
        {
          "output_type": "stream",
          "text": [
            "--2019-02-09 09:50:02--  https://storage.googleapis.com/kaggle-datasets/12809/17485/glove-stanford.zip?GoogleAccessId=web-data@kaggle-161607.iam.gserviceaccount.com&Expires=1549964964&Signature=daDK%2BYaMzHbexfKyvBxrpJGG9uGEgKcpgBgTuWXMw1g1b%2BvkwHK3W%2BBvBpPi34XlzI0l26K%2F3aeVhCwrnAUt8gFtLopq9XFytAr%2BKUyjcGQLTpUXgXfwmyNgDhFJyq5h3MwFGfrjcdfFipOX1C1%2B0pO0GFGNkudlM6RAgGyeU7F8Uadl1Utk%2BR8ryTlp200ukmDh0ViRBcryVTuqqS9BTsErIOxg7NOO9yFG%2FvA5ZQlQ232O1jxRt8CHptiQ3Lj9LgGdbm3m6LBZw3Pl%2F5mKkHilxd29X%2Fidrv%2FIAJZ2K53Iq7TWTuBTE1OFdSg1Q%2Fzi21M6YhGL5MRvmrxt9nph0Q%3D%3D\n",
            "Resolving storage.googleapis.com (storage.googleapis.com)... 108.177.97.128, 2404:6800:4008:c00::80\n",
            "Connecting to storage.googleapis.com (storage.googleapis.com)|108.177.97.128|:443... connected.\n",
            "HTTP request sent, awaiting response... 200 OK\n",
            "Length: 3160233772 (2.9G) [application/zip]\n",
            "Saving to: ‘glove-stanford.zip’\n",
            "\n",
            "glove-stanford.zip  100%[===================>]   2.94G  42.9MB/s    in 1m 43s  \n",
            "\n",
            "2019-02-09 09:51:45 (29.2 MB/s) - ‘glove-stanford.zip’ saved [3160233772/3160233772]\n",
            "\n"
          ],
          "name": "stdout"
        }
      ]
    },
    {
      "metadata": {
        "id": "vZAUP1QWowa-",
        "colab_type": "code",
        "outputId": "094349b9-f24f-4fbb-e37d-cf4d5de8c88e",
        "colab": {
          "base_uri": "https://localhost:8080/",
          "height": 86
        }
      },
      "cell_type": "code",
      "source": [
        "!ls"
      ],
      "execution_count": 0,
      "outputs": [
        {
          "output_type": "stream",
          "text": [
            "Data\t\t     glove.840B.300d.txt\t glove.twitter.27B.200d.txt\n",
            "f6e015ae-2-Data.zip  glove840b300dtxt.zip\t __MACOSX\n",
            "glove.42B.300d.txt   glove-stanford.zip\t\t sample_data\n",
            "glove.42B.300d.zip   glove.twitter.27B.100d.txt\n"
          ],
          "name": "stdout"
        }
      ]
    },
    {
      "metadata": {
        "id": "JchBoOtYn7tG",
        "colab_type": "code",
        "outputId": "df0127da-d945-412d-e83e-05548c3cf1c4",
        "colab": {
          "base_uri": "https://localhost:8080/",
          "height": 52
        }
      },
      "cell_type": "code",
      "source": [
        "embeddings_index = {}\n",
        "f = open('glove.42B.300d.txt')\n",
        "for line in tqdm(f):\n",
        "    values = line.split()\n",
        "    word = values[0]\n",
        "    coefs = np.asarray(values[1:], dtype='float32')\n",
        "    embeddings_index[word] = coefs\n",
        "f.close()\n",
        "\n",
        "print('Found %s word vectors.' % len(embeddings_index))"
      ],
      "execution_count": 0,
      "outputs": [
        {
          "output_type": "stream",
          "text": [
            "1917494it [02:38, 12106.60it/s]"
          ],
          "name": "stderr"
        },
        {
          "output_type": "stream",
          "text": [
            "Found 1917494 word vectors.\n"
          ],
          "name": "stdout"
        },
        {
          "output_type": "stream",
          "text": [
            "\n"
          ],
          "name": "stderr"
        }
      ]
    },
    {
      "metadata": {
        "id": "lkxXa578snHx",
        "colab_type": "code",
        "outputId": "12629607-f525-40ed-b7e0-85bde442a92a",
        "colab": {
          "base_uri": "https://localhost:8080/",
          "height": 69
        }
      },
      "cell_type": "code",
      "source": [
        "nltk.download('punkt')"
      ],
      "execution_count": 0,
      "outputs": [
        {
          "output_type": "stream",
          "text": [
            "[nltk_data] Downloading package punkt to /root/nltk_data...\n",
            "[nltk_data]   Unzipping tokenizers/punkt.zip.\n"
          ],
          "name": "stdout"
        },
        {
          "output_type": "execute_result",
          "data": {
            "text/plain": [
              "True"
            ]
          },
          "metadata": {
            "tags": []
          },
          "execution_count": 34
        }
      ]
    },
    {
      "metadata": {
        "id": "zzOf45yUpApd",
        "colab_type": "code",
        "colab": {}
      },
      "cell_type": "code",
      "source": [
        "# this function creates a normalized vector for the whole sentence\n",
        "def sent2vec(s):\n",
        "    words = str(s).lower()\n",
        "    words = word_tokenize(words)\n",
        "    words = [w for w in words if not w in stop_words]\n",
        "    words = [w for w in words if w.isalpha()]\n",
        "    M = []\n",
        "    for w in words:\n",
        "        try:\n",
        "            M.append(embeddings_index[w])\n",
        "        except:\n",
        "            continue\n",
        "    M = np.array(M)\n",
        "    v = M.sum(axis=0)\n",
        "    if type(v) != np.ndarray:\n",
        "        return np.zeros(300)\n",
        "    return v / np.sqrt((v ** 2).sum())"
      ],
      "execution_count": 0,
      "outputs": []
    },
    {
      "metadata": {
        "id": "TfGa_sOApDmt",
        "colab_type": "code",
        "outputId": "46680079-b086-4177-bce4-a038e89b8125",
        "colab": {
          "base_uri": "https://localhost:8080/",
          "height": 8370
        }
      },
      "cell_type": "code",
      "source": [
        "# create sentence vectors using the above function for training and validation set\n",
        "xtrain_glove = [sent2vec(x) for x in tqdm(xtrain)]\n",
        "xvalid_glove = [sent2vec(x) for x in tqdm(xvalid)]"
      ],
      "execution_count": 0,
      "outputs": [
        {
          "output_type": "stream",
          "text": [
            "\n",
            "\n",
            "  0%|          | 0/49000 [00:00<?, ?it/s]\u001b[A\u001b[A\n",
            "\n",
            "  0%|          | 1/49000 [00:00<5:46:18,  2.36it/s]\u001b[A\u001b[A\n",
            "\n",
            "  1%|          | 273/49000 [00:00<4:01:09,  3.37it/s]\u001b[A\u001b[A\n",
            "\n",
            "  1%|          | 551/49000 [00:00<2:47:56,  4.81it/s]\u001b[A\u001b[A\n",
            "\n",
            "  2%|▏         | 845/49000 [00:00<1:56:55,  6.86it/s]\u001b[A\u001b[A\n",
            "\n",
            "  2%|▏         | 1153/49000 [00:00<1:21:24,  9.80it/s]\u001b[A\u001b[A\n",
            "\n",
            "  3%|▎         | 1461/49000 [00:00<56:41, 13.98it/s]  \u001b[A\u001b[A\n",
            "\n",
            "  4%|▎         | 1764/49000 [00:01<39:30, 19.93it/s]\u001b[A\u001b[A\n",
            "\n",
            "  4%|▍         | 2076/49000 [00:01<27:32, 28.39it/s]\u001b[A\u001b[A\n",
            "\n",
            "  5%|▍         | 2383/49000 [00:01<19:14, 40.39it/s]\u001b[A\u001b[A\n",
            "\n",
            "  5%|▌         | 2678/49000 [00:01<13:27, 57.37it/s]\u001b[A\u001b[A\n",
            "\n",
            "  6%|▌         | 2968/49000 [00:01<09:26, 81.26it/s]\u001b[A\u001b[A\n",
            "\n",
            "  7%|▋         | 3257/49000 [00:01<06:38, 114.69it/s]\u001b[A\u001b[A\n",
            "\n",
            "  7%|▋         | 3545/49000 [00:01<04:42, 161.08it/s]\u001b[A\u001b[A\n",
            "\n",
            "  8%|▊         | 3833/49000 [00:01<03:21, 224.59it/s]\u001b[A\u001b[A\n",
            "\n",
            "  8%|▊         | 4119/49000 [00:01<02:24, 310.36it/s]\u001b[A\u001b[A\n",
            "\n",
            "  9%|▉         | 4413/49000 [00:01<01:45, 424.11it/s]\u001b[A\u001b[A\n",
            "\n",
            " 10%|▉         | 4714/49000 [00:02<01:17, 571.32it/s]\u001b[A\u001b[A\n",
            "\n",
            " 10%|█         | 5020/49000 [00:02<00:58, 755.63it/s]\u001b[A\u001b[A\n",
            "\n",
            " 11%|█         | 5325/49000 [00:02<00:44, 975.73it/s]\u001b[A\u001b[A\n",
            "\n",
            " 12%|█▏        | 5637/49000 [00:02<00:35, 1228.68it/s]\u001b[A\u001b[A\n",
            "\n",
            " 12%|█▏        | 5948/49000 [00:02<00:28, 1500.93it/s]\u001b[A\u001b[A\n",
            "\n",
            " 13%|█▎        | 6270/49000 [00:02<00:23, 1786.89it/s]\u001b[A\u001b[A\n",
            "\n",
            " 13%|█▎        | 6580/49000 [00:02<00:20, 2041.29it/s]\u001b[A\u001b[A\n",
            "\n",
            " 14%|█▍        | 6889/49000 [00:02<00:18, 2267.73it/s]\u001b[A\u001b[A\n",
            "\n",
            " 15%|█▍        | 7199/49000 [00:02<00:16, 2466.17it/s]\u001b[A\u001b[A\n",
            "\n",
            " 15%|█▌        | 7513/49000 [00:02<00:15, 2635.63it/s]\u001b[A\u001b[A\n",
            "\n",
            " 16%|█▌        | 7824/49000 [00:03<00:14, 2758.07it/s]\u001b[A\u001b[A\n",
            "\n",
            " 17%|█▋        | 8134/49000 [00:03<00:14, 2825.72it/s]\u001b[A\u001b[A\n",
            "\n",
            " 17%|█▋        | 8441/49000 [00:03<00:14, 2811.03it/s]\u001b[A\u001b[A\n",
            "\n",
            " 18%|█▊        | 8740/49000 [00:03<00:14, 2829.21it/s]\u001b[A\u001b[A\n",
            "\n",
            " 18%|█▊        | 9035/49000 [00:03<00:14, 2848.92it/s]\u001b[A\u001b[A\n",
            "\n",
            " 19%|█▉        | 9332/49000 [00:03<00:13, 2883.83it/s]\u001b[A\u001b[A\n",
            "\n",
            " 20%|█▉        | 9627/49000 [00:03<00:13, 2857.74it/s]\u001b[A\u001b[A\n",
            "\n",
            " 20%|██        | 9926/49000 [00:03<00:13, 2893.19it/s]\u001b[A\u001b[A\n",
            "\n",
            " 21%|██        | 10220/49000 [00:03<00:13, 2904.90it/s]\u001b[A\u001b[A\n",
            "\n",
            " 21%|██▏       | 10513/49000 [00:03<00:13, 2895.45it/s]\u001b[A\u001b[A\n",
            "\n",
            " 22%|██▏       | 10805/49000 [00:04<00:13, 2890.41it/s]\u001b[A\u001b[A\n",
            "\n",
            " 23%|██▎       | 11102/49000 [00:04<00:13, 2912.94it/s]\u001b[A\u001b[A\n",
            "\n",
            " 23%|██▎       | 11395/49000 [00:04<00:13, 2866.10it/s]\u001b[A\u001b[A\n",
            "\n",
            " 24%|██▍       | 11697/49000 [00:04<00:12, 2910.14it/s]\u001b[A\u001b[A\n",
            "\n",
            " 24%|██▍       | 11989/49000 [00:04<00:12, 2908.87it/s]\u001b[A\u001b[A\n",
            "\n",
            " 25%|██▌       | 12281/49000 [00:04<00:12, 2897.31it/s]\u001b[A\u001b[A\n",
            "\n",
            " 26%|██▌       | 12580/49000 [00:04<00:12, 2921.05it/s]\u001b[A\u001b[A\n",
            "\n",
            " 26%|██▋       | 12875/49000 [00:04<00:12, 2926.32it/s]\u001b[A\u001b[A\n",
            "\n",
            " 27%|██▋       | 13176/49000 [00:04<00:12, 2949.27it/s]\u001b[A\u001b[A\n",
            "\n",
            " 27%|██▋       | 13472/49000 [00:04<00:12, 2951.59it/s]\u001b[A\u001b[A\n",
            "\n",
            " 28%|██▊       | 13773/49000 [00:05<00:11, 2968.11it/s]\u001b[A\u001b[A\n",
            "\n",
            " 29%|██▊       | 14074/49000 [00:05<00:11, 2978.99it/s]\u001b[A\u001b[A\n",
            "\n",
            " 29%|██▉       | 14372/49000 [00:05<00:11, 2889.57it/s]\u001b[A\u001b[A\n",
            "\n",
            " 30%|██▉       | 14669/49000 [00:05<00:11, 2912.94it/s]\u001b[A\u001b[A\n",
            "\n",
            " 31%|███       | 14970/49000 [00:05<00:11, 2940.50it/s]\u001b[A\u001b[A\n",
            "\n",
            " 31%|███       | 15278/49000 [00:05<00:11, 2980.19it/s]\u001b[A\u001b[A\n",
            "\n",
            " 32%|███▏      | 15577/49000 [00:05<00:11, 2981.71it/s]\u001b[A\u001b[A\n",
            "\n",
            " 32%|███▏      | 15876/49000 [00:05<00:11, 2943.39it/s]\u001b[A\u001b[A\n",
            "\n",
            " 33%|███▎      | 16172/49000 [00:05<00:11, 2946.80it/s]\u001b[A\u001b[A\n",
            "\n",
            " 34%|███▎      | 16469/49000 [00:05<00:11, 2953.19it/s]\u001b[A\u001b[A\n",
            "\n",
            " 34%|███▍      | 16769/49000 [00:06<00:10, 2965.07it/s]\u001b[A\u001b[A\n",
            "\n",
            " 35%|███▍      | 17066/49000 [00:06<00:10, 2964.84it/s]\u001b[A\u001b[A\n",
            "\n",
            " 35%|███▌      | 17363/49000 [00:06<00:10, 2914.18it/s]\u001b[A\u001b[A\n",
            "\n",
            " 36%|███▌      | 17656/49000 [00:06<00:10, 2918.25it/s]\u001b[A\u001b[A\n",
            "\n",
            " 37%|███▋      | 17954/49000 [00:06<00:10, 2934.46it/s]\u001b[A\u001b[A\n",
            "\n",
            " 37%|███▋      | 18248/49000 [00:06<00:10, 2928.85it/s]\u001b[A\u001b[A\n",
            "\n",
            " 38%|███▊      | 18553/49000 [00:06<00:10, 2962.98it/s]\u001b[A\u001b[A\n",
            "\n",
            " 38%|███▊      | 18850/49000 [00:06<00:10, 2942.80it/s]\u001b[A\u001b[A\n",
            "\n",
            " 39%|███▉      | 19145/49000 [00:06<00:10, 2931.75it/s]\u001b[A\u001b[A\n",
            "\n",
            " 40%|███▉      | 19439/49000 [00:07<00:10, 2921.63it/s]\u001b[A\u001b[A\n",
            "\n",
            " 40%|████      | 19744/49000 [00:07<00:09, 2956.94it/s]\u001b[A\u001b[A\n",
            "\n",
            " 41%|████      | 20043/49000 [00:07<00:09, 2964.46it/s]\u001b[A\u001b[A\n",
            "\n",
            " 42%|████▏     | 20340/49000 [00:07<00:09, 2905.82it/s]\u001b[A\u001b[A\n",
            "\n",
            " 42%|████▏     | 20634/49000 [00:07<00:09, 2913.40it/s]\u001b[A\u001b[A\n",
            "\n",
            " 43%|████▎     | 20941/49000 [00:07<00:09, 2957.67it/s]\u001b[A\u001b[A\n",
            "\n",
            " 43%|████▎     | 21238/49000 [00:07<00:09, 2956.49it/s]\u001b[A\u001b[A\n",
            "\n",
            " 44%|████▍     | 21534/49000 [00:07<00:09, 2929.50it/s]\u001b[A\u001b[A\n",
            "\n",
            " 45%|████▍     | 21838/49000 [00:07<00:09, 2961.60it/s]\u001b[A\u001b[A\n",
            "\n",
            " 45%|████▌     | 22138/49000 [00:07<00:09, 2970.20it/s]\u001b[A\u001b[A\n",
            "\n",
            " 46%|████▌     | 22439/49000 [00:08<00:08, 2979.91it/s]\u001b[A\u001b[A\n",
            "\n",
            " 46%|████▋     | 22742/49000 [00:08<00:08, 2994.38it/s]\u001b[A\u001b[A\n",
            "\n",
            " 47%|████▋     | 23042/49000 [00:08<00:08, 2988.49it/s]\u001b[A\u001b[A\n",
            "\n",
            " 48%|████▊     | 23341/49000 [00:08<00:08, 2898.11it/s]\u001b[A\u001b[A\n",
            "\n",
            " 48%|████▊     | 23635/49000 [00:08<00:08, 2910.34it/s]\u001b[A\u001b[A\n",
            "\n",
            " 49%|████▉     | 23938/49000 [00:08<00:08, 2945.14it/s]\u001b[A\u001b[A\n",
            "\n",
            " 49%|████▉     | 24233/49000 [00:08<00:08, 2933.38it/s]\u001b[A\u001b[A\n",
            "\n",
            " 50%|█████     | 24528/49000 [00:08<00:08, 2935.88it/s]\u001b[A\u001b[A\n",
            "\n",
            " 51%|█████     | 24822/49000 [00:08<00:08, 2901.67it/s]\u001b[A\u001b[A\n",
            "\n",
            " 51%|█████▏    | 25120/49000 [00:08<00:08, 2922.70it/s]\u001b[A\u001b[A\n",
            "\n",
            " 52%|█████▏    | 25424/49000 [00:09<00:07, 2955.70it/s]\u001b[A\u001b[A\n",
            "\n",
            " 52%|█████▎    | 25725/49000 [00:09<00:07, 2971.52it/s]\u001b[A\u001b[A\n",
            "\n",
            " 53%|█████▎    | 26027/49000 [00:09<00:07, 2984.70it/s]\u001b[A\u001b[A\n",
            "\n",
            " 54%|█████▎    | 26326/49000 [00:09<00:07, 2932.87it/s]\u001b[A\u001b[A\n",
            "\n",
            " 54%|█████▍    | 26628/49000 [00:09<00:07, 2954.58it/s]\u001b[A\u001b[A\n",
            "\n",
            " 55%|█████▍    | 26924/49000 [00:09<00:07, 2944.36it/s]\u001b[A\u001b[A\n",
            "\n",
            " 56%|█████▌    | 27220/49000 [00:09<00:07, 2945.69it/s]\u001b[A\u001b[A\n",
            "\n",
            " 56%|█████▌    | 27515/49000 [00:09<00:07, 2939.76it/s]\u001b[A\u001b[A\n",
            "\n",
            " 57%|█████▋    | 27810/49000 [00:09<00:07, 2934.18it/s]\u001b[A\u001b[A\n",
            "\n",
            " 57%|█████▋    | 28115/49000 [00:09<00:07, 2967.87it/s]\u001b[A\u001b[A\n",
            "\n",
            " 58%|█████▊    | 28420/49000 [00:10<00:06, 2991.09it/s]\u001b[A\u001b[A\n",
            "\n",
            " 59%|█████▊    | 28732/49000 [00:10<00:06, 3026.48it/s]\u001b[A\u001b[A\n",
            "\n",
            " 59%|█████▉    | 29035/49000 [00:10<00:06, 3025.85it/s]\u001b[A\u001b[A\n",
            "\n",
            " 60%|█████▉    | 29338/49000 [00:10<00:06, 2942.39it/s]\u001b[A\u001b[A\n",
            "\n",
            " 60%|██████    | 29633/49000 [00:10<00:06, 2907.54it/s]\u001b[A\u001b[A\n",
            "\n",
            " 61%|██████    | 29937/49000 [00:10<00:06, 2944.11it/s]\u001b[A\u001b[A\n",
            "\n",
            " 62%|██████▏   | 30232/49000 [00:10<00:06, 2938.75it/s]\u001b[A\u001b[A\n",
            "\n",
            " 62%|██████▏   | 30539/49000 [00:10<00:06, 2974.37it/s]\u001b[A\u001b[A\n",
            "\n",
            " 63%|██████▎   | 30841/49000 [00:10<00:06, 2987.77it/s]\u001b[A\u001b[A\n",
            "\n",
            " 64%|██████▎   | 31141/49000 [00:10<00:05, 2977.59it/s]\u001b[A\u001b[A\n",
            "\n",
            " 64%|██████▍   | 31450/49000 [00:11<00:05, 3007.20it/s]\u001b[A\u001b[A\n",
            "\n",
            " 65%|██████▍   | 31751/49000 [00:11<00:05, 3002.37it/s]\u001b[A\u001b[A\n",
            "\n",
            " 65%|██████▌   | 32056/49000 [00:11<00:05, 3016.36it/s]\u001b[A\u001b[A\n",
            "\n",
            " 66%|██████▌   | 32358/49000 [00:11<00:05, 2969.20it/s]\u001b[A\u001b[A\n",
            "\n",
            " 67%|██████▋   | 32656/49000 [00:11<00:05, 2968.05it/s]\u001b[A\u001b[A\n",
            "\n",
            " 67%|██████▋   | 32959/49000 [00:11<00:05, 2985.08it/s]\u001b[A\u001b[A\n",
            "\n",
            " 68%|██████▊   | 33264/49000 [00:11<00:05, 3003.60it/s]\u001b[A\u001b[A\n",
            "\n",
            " 68%|██████▊   | 33565/49000 [00:11<00:05, 2979.54it/s]\u001b[A\u001b[A\n",
            "\n",
            " 69%|██████▉   | 33864/49000 [00:11<00:05, 2974.37it/s]\u001b[A\u001b[A\n",
            "\n",
            " 70%|██████▉   | 34162/49000 [00:11<00:05, 2950.86it/s]\u001b[A\u001b[A\n",
            "\n",
            " 70%|███████   | 34458/49000 [00:12<00:05, 2825.43it/s]\u001b[A\u001b[A\n",
            "\n",
            " 71%|███████   | 34751/49000 [00:12<00:04, 2855.83it/s]\u001b[A\u001b[A\n",
            "\n",
            " 72%|███████▏  | 35055/49000 [00:12<00:04, 2907.63it/s]\u001b[A\u001b[A\n",
            "\n",
            " 72%|███████▏  | 35347/49000 [00:12<00:04, 2882.75it/s]\u001b[A\u001b[A\n",
            "\n",
            " 73%|███████▎  | 35640/49000 [00:12<00:04, 2894.55it/s]\u001b[A\u001b[A\n",
            "\n",
            " 73%|███████▎  | 35934/49000 [00:12<00:04, 2906.53it/s]\u001b[A\u001b[A\n",
            "\n",
            " 74%|███████▍  | 36230/49000 [00:12<00:04, 2921.21it/s]\u001b[A\u001b[A\n",
            "\n",
            " 75%|███████▍  | 36529/49000 [00:12<00:04, 2940.62it/s]\u001b[A\u001b[A\n",
            "\n",
            " 75%|███████▌  | 36824/49000 [00:12<00:04, 2935.15it/s]\u001b[A\u001b[A\n",
            "\n",
            " 76%|███████▌  | 37118/49000 [00:12<00:04, 2912.13it/s]\u001b[A\u001b[A\n",
            "\n",
            " 76%|███████▋  | 37416/49000 [00:13<00:03, 2931.66it/s]\u001b[A\u001b[A\n",
            "\n",
            " 77%|███████▋  | 37710/49000 [00:13<00:03, 2911.69it/s]\u001b[A\u001b[A\n",
            "\n",
            " 78%|███████▊  | 38010/49000 [00:13<00:03, 2935.21it/s]\u001b[A\u001b[A\n",
            "\n",
            " 78%|███████▊  | 38304/49000 [00:13<00:03, 2916.87it/s]\u001b[A\u001b[A\n",
            "\n",
            " 79%|███████▉  | 38596/49000 [00:13<00:03, 2915.33it/s]\u001b[A\u001b[A\n",
            "\n",
            " 79%|███████▉  | 38907/49000 [00:13<00:03, 2970.89it/s]\u001b[A\u001b[A\n",
            "\n",
            " 80%|████████  | 39208/49000 [00:13<00:03, 2979.58it/s]\u001b[A\u001b[A\n",
            "\n",
            " 81%|████████  | 39507/49000 [00:13<00:03, 2976.66it/s]\u001b[A\u001b[A\n",
            "\n",
            " 81%|████████  | 39805/49000 [00:13<00:03, 2966.11it/s]\u001b[A\u001b[A\n",
            "\n",
            " 82%|████████▏ | 40110/49000 [00:14<00:02, 2988.81it/s]\u001b[A\u001b[A\n",
            "\n",
            " 82%|████████▏ | 40410/49000 [00:14<00:02, 2951.34it/s]\u001b[A\u001b[A\n",
            "\n",
            " 83%|████████▎ | 40706/49000 [00:14<00:02, 2937.75it/s]\u001b[A\u001b[A\n",
            "\n",
            " 84%|████████▎ | 41000/49000 [00:14<00:02, 2928.86it/s]\u001b[A\u001b[A\n",
            "\n",
            " 84%|████████▍ | 41293/49000 [00:14<00:02, 2895.59it/s]\u001b[A\u001b[A\n",
            "\n",
            " 85%|████████▍ | 41583/49000 [00:14<00:02, 2874.02it/s]\u001b[A\u001b[A\n",
            "\n",
            " 85%|████████▌ | 41889/49000 [00:14<00:02, 2926.25it/s]\u001b[A\u001b[A\n",
            "\n",
            " 86%|████████▌ | 42196/49000 [00:14<00:02, 2967.58it/s]\u001b[A\u001b[A\n",
            "\n",
            " 87%|████████▋ | 42496/49000 [00:14<00:02, 2976.00it/s]\u001b[A\u001b[A\n",
            "\n",
            " 87%|████████▋ | 42794/49000 [00:14<00:02, 2908.50it/s]\u001b[A\u001b[A\n",
            "\n",
            " 88%|████████▊ | 43093/49000 [00:15<00:02, 2931.37it/s]\u001b[A\u001b[A\n",
            "\n",
            " 89%|████████▊ | 43391/49000 [00:15<00:01, 2942.93it/s]\u001b[A\u001b[A\n",
            "\n",
            " 89%|████████▉ | 43697/49000 [00:15<00:01, 2973.50it/s]\u001b[A\u001b[A\n",
            "\n",
            " 90%|████████▉ | 43995/49000 [00:15<00:01, 2940.25it/s]\u001b[A\u001b[A\n",
            "\n",
            " 90%|█████████ | 44290/49000 [00:15<00:01, 2878.04it/s]\u001b[A\u001b[A\n",
            "\n",
            " 91%|█████████ | 44579/49000 [00:15<00:01, 2876.55it/s]\u001b[A\u001b[A\n",
            "\n",
            " 92%|█████████▏| 44881/49000 [00:15<00:01, 2917.53it/s]\u001b[A\u001b[A\n",
            "\n",
            " 92%|█████████▏| 45174/49000 [00:15<00:01, 2906.83it/s]\u001b[A\u001b[A\n",
            "\n",
            " 93%|█████████▎| 45465/49000 [00:15<00:01, 2881.55it/s]\u001b[A\u001b[A\n",
            "\n",
            " 93%|█████████▎| 45755/49000 [00:15<00:01, 2885.82it/s]\u001b[A\u001b[A\n",
            "\n",
            " 94%|█████████▍| 46044/49000 [00:16<00:01, 2878.67it/s]\u001b[A\u001b[A\n",
            "\n",
            " 95%|█████████▍| 46336/49000 [00:16<00:00, 2888.62it/s]\u001b[A\u001b[A\n",
            "\n",
            " 95%|█████████▌| 46632/49000 [00:16<00:00, 2907.46it/s]\u001b[A\u001b[A\n",
            "\n",
            " 96%|█████████▌| 46923/49000 [00:16<00:00, 2877.07it/s]\u001b[A\u001b[A\n",
            "\n",
            " 96%|█████████▋| 47214/49000 [00:16<00:00, 2885.30it/s]\u001b[A\u001b[A\n",
            "\n",
            " 97%|█████████▋| 47503/49000 [00:16<00:00, 2867.62it/s]\u001b[A\u001b[A\n",
            "\n",
            " 98%|█████████▊| 47800/49000 [00:16<00:00, 2896.99it/s]\u001b[A\u001b[A\n",
            "\n",
            " 98%|█████████▊| 48104/49000 [00:16<00:00, 2938.07it/s]\u001b[A\u001b[A\n",
            "\n",
            " 99%|█████████▉| 48399/49000 [00:16<00:00, 2923.89it/s]\u001b[A\u001b[A\n",
            "\n",
            " 99%|█████████▉| 48692/49000 [00:16<00:00, 2922.99it/s]\u001b[A\u001b[A\n",
            "\n",
            "100%|█████████▉| 48993/49000 [00:17<00:00, 2948.45it/s]\u001b[A\u001b[A\n",
            "\n",
            "100%|██████████| 49000/49000 [00:17<00:00, 2871.46it/s]\u001b[A\u001b[A\n",
            "\n",
            "  0%|          | 0/21000 [00:00<?, ?it/s]\u001b[A\u001b[A\n",
            "\n",
            "  1%|▏         | 279/21000 [00:00<00:07, 2780.98it/s]\u001b[A\u001b[A\n",
            "\n",
            "  3%|▎         | 568/21000 [00:00<00:07, 2812.56it/s]\u001b[A\u001b[A\n",
            "\n",
            "  4%|▍         | 869/21000 [00:00<00:07, 2867.53it/s]\u001b[A\u001b[A\n",
            "\n",
            "  6%|▌         | 1164/21000 [00:00<00:06, 2890.90it/s]\u001b[A\u001b[A\n",
            "\n",
            "  7%|▋         | 1442/21000 [00:00<00:06, 2855.10it/s]\u001b[A\u001b[A\n",
            "\n",
            "  8%|▊         | 1740/21000 [00:00<00:06, 2887.86it/s]\u001b[A\u001b[A\n",
            "\n",
            " 10%|▉         | 2030/21000 [00:00<00:06, 2890.84it/s]\u001b[A\u001b[A\n",
            "\n",
            " 11%|█         | 2324/21000 [00:00<00:06, 2904.01it/s]\u001b[A\u001b[A\n",
            "\n",
            " 12%|█▏        | 2620/21000 [00:00<00:06, 2919.17it/s]\u001b[A\u001b[A\n",
            "\n",
            " 14%|█▍        | 2913/21000 [00:01<00:06, 2922.32it/s]\u001b[A\u001b[A\n",
            "\n",
            " 15%|█▌        | 3205/21000 [00:01<00:06, 2920.72it/s]\u001b[A\u001b[A\n",
            "\n",
            " 17%|█▋        | 3492/21000 [00:01<00:06, 2890.39it/s]\u001b[A\u001b[A\n",
            "\n",
            " 18%|█▊        | 3778/21000 [00:01<00:06, 2843.44it/s]\u001b[A\u001b[A\n",
            "\n",
            " 19%|█▉        | 4072/21000 [00:01<00:05, 2869.70it/s]\u001b[A\u001b[A\n",
            "\n",
            " 21%|██        | 4358/21000 [00:01<00:05, 2834.79it/s]\u001b[A\u001b[A\n",
            "\n",
            " 22%|██▏       | 4654/21000 [00:01<00:05, 2868.90it/s]\u001b[A\u001b[A\n",
            "\n",
            " 24%|██▎       | 4948/21000 [00:01<00:05, 2887.36it/s]\u001b[A\u001b[A\n",
            "\n",
            " 25%|██▍       | 5237/21000 [00:01<00:05, 2867.94it/s]\u001b[A\u001b[A\n",
            "\n",
            " 26%|██▋       | 5524/21000 [00:01<00:05, 2863.33it/s]\u001b[A\u001b[A\n",
            "\n",
            " 28%|██▊       | 5817/21000 [00:02<00:05, 2882.43it/s]\u001b[A\u001b[A\n",
            "\n",
            " 29%|██▉       | 6107/21000 [00:02<00:05, 2884.27it/s]\u001b[A\u001b[A\n",
            "\n",
            " 30%|███       | 6396/21000 [00:02<00:05, 2872.70it/s]\u001b[A\u001b[A\n",
            "\n",
            " 32%|███▏      | 6695/21000 [00:02<00:04, 2904.75it/s]\u001b[A\u001b[A\n",
            "\n",
            " 33%|███▎      | 6986/21000 [00:02<00:04, 2893.20it/s]\u001b[A\u001b[A\n",
            "\n",
            " 35%|███▍      | 7276/21000 [00:02<00:04, 2871.03it/s]\u001b[A\u001b[A\n",
            "\n",
            " 36%|███▌      | 7571/21000 [00:02<00:04, 2894.15it/s]\u001b[A\u001b[A\n",
            "\n",
            " 37%|███▋      | 7868/21000 [00:02<00:04, 2914.59it/s]\u001b[A\u001b[A\n",
            "\n",
            " 39%|███▉      | 8169/21000 [00:02<00:04, 2940.33it/s]\u001b[A\u001b[A\n",
            "\n",
            " 40%|████      | 8470/21000 [00:02<00:04, 2958.46it/s]\u001b[A\u001b[A\n",
            "\n",
            " 42%|████▏     | 8774/21000 [00:03<00:04, 2982.31it/s]\u001b[A\u001b[A\n",
            "\n",
            " 43%|████▎     | 9073/21000 [00:03<00:04, 2980.74it/s]\u001b[A\u001b[A\n",
            "\n",
            " 45%|████▍     | 9372/21000 [00:03<00:03, 2938.22it/s]\u001b[A\u001b[A\n",
            "\n",
            " 46%|████▌     | 9667/21000 [00:03<00:03, 2941.18it/s]\u001b[A\u001b[A\n",
            "\n",
            " 47%|████▋     | 9967/21000 [00:03<00:03, 2956.16it/s]\u001b[A\u001b[A\n",
            "\n",
            " 49%|████▉     | 10263/21000 [00:03<00:03, 2878.34it/s]\u001b[A\u001b[A\n",
            "\n",
            " 50%|█████     | 10552/21000 [00:03<00:03, 2873.11it/s]\u001b[A\u001b[A\n",
            "\n",
            " 52%|█████▏    | 10854/21000 [00:03<00:03, 2914.78it/s]\u001b[A\u001b[A\n",
            "\n",
            " 53%|█████▎    | 11146/21000 [00:03<00:03, 2915.46it/s]\u001b[A\u001b[A\n",
            "\n",
            " 55%|█████▍    | 11448/21000 [00:03<00:03, 2945.87it/s]\u001b[A\u001b[A\n",
            "\n",
            " 56%|█████▌    | 11750/21000 [00:04<00:03, 2967.04it/s]\u001b[A\u001b[A\n",
            "\n",
            " 57%|█████▋    | 12047/21000 [00:04<00:03, 2953.97it/s]\u001b[A\u001b[A\n",
            "\n",
            " 59%|█████▉    | 12343/21000 [00:04<00:02, 2947.38it/s]\u001b[A\u001b[A\n",
            "\n",
            " 60%|██████    | 12641/21000 [00:04<00:02, 2953.89it/s]\u001b[A\u001b[A\n",
            "\n",
            " 62%|██████▏   | 12937/21000 [00:04<00:02, 2941.61it/s]\u001b[A\u001b[A\n",
            "\n",
            " 63%|██████▎   | 13232/21000 [00:04<00:02, 2892.01it/s]\u001b[A\u001b[A\n",
            "\n",
            " 64%|██████▍   | 13525/21000 [00:04<00:02, 2899.88it/s]\u001b[A\u001b[A\n",
            "\n",
            " 66%|██████▌   | 13817/21000 [00:04<00:02, 2904.90it/s]\u001b[A\u001b[A\n",
            "\n",
            " 67%|██████▋   | 14108/21000 [00:04<00:02, 2898.64it/s]\u001b[A\u001b[A\n",
            "\n",
            " 69%|██████▊   | 14410/21000 [00:04<00:02, 2933.55it/s]\u001b[A\u001b[A\n",
            "\n",
            " 70%|███████   | 14714/21000 [00:05<00:02, 2963.09it/s]\u001b[A\u001b[A\n",
            "\n",
            " 71%|███████▏  | 15011/21000 [00:05<00:02, 2955.64it/s]\u001b[A\u001b[A\n",
            "\n",
            " 73%|███████▎  | 15316/21000 [00:05<00:01, 2982.24it/s]\u001b[A\u001b[A\n",
            "\n",
            " 74%|███████▍  | 15615/21000 [00:05<00:01, 2938.01it/s]\u001b[A\u001b[A\n",
            "\n",
            " 76%|███████▌  | 15910/21000 [00:05<00:01, 2923.03it/s]\u001b[A\u001b[A\n",
            "\n",
            " 77%|███████▋  | 16203/21000 [00:05<00:01, 2876.99it/s]\u001b[A\u001b[A\n",
            "\n",
            " 79%|███████▊  | 16502/21000 [00:05<00:01, 2906.25it/s]\u001b[A\u001b[A\n",
            "\n",
            " 80%|███████▉  | 16793/21000 [00:05<00:01, 2892.68it/s]\u001b[A\u001b[A\n",
            "\n",
            " 81%|████████▏ | 17083/21000 [00:05<00:01, 2894.27it/s]\u001b[A\u001b[A\n",
            "\n",
            " 83%|████████▎ | 17373/21000 [00:05<00:01, 2876.58it/s]\u001b[A\u001b[A\n",
            "\n",
            " 84%|████████▍ | 17666/21000 [00:06<00:01, 2891.05it/s]\u001b[A\u001b[A\n",
            "\n",
            " 86%|████████▌ | 17966/21000 [00:06<00:01, 2922.75it/s]\u001b[A\u001b[A\n",
            "\n",
            " 87%|████████▋ | 18260/21000 [00:06<00:00, 2927.17it/s]\u001b[A\u001b[A\n",
            "\n",
            " 88%|████████▊ | 18558/21000 [00:06<00:00, 2941.95it/s]\u001b[A\u001b[A\n",
            "\n",
            " 90%|████████▉ | 18853/21000 [00:06<00:00, 2911.35it/s]\u001b[A\u001b[A\n",
            "\n",
            " 91%|█████████ | 19145/21000 [00:06<00:00, 2819.50it/s]\u001b[A\u001b[A\n",
            "\n",
            " 93%|█████████▎| 19447/21000 [00:06<00:00, 2876.70it/s]\u001b[A\u001b[A\n",
            "\n",
            " 94%|█████████▍| 19742/21000 [00:06<00:00, 2897.49it/s]\u001b[A\u001b[A\n",
            "\n",
            " 95%|█████████▌| 20033/21000 [00:06<00:00, 2888.50it/s]\u001b[A\u001b[A\n",
            "\n",
            " 97%|█████████▋| 20330/21000 [00:06<00:00, 2911.47it/s]\u001b[A\u001b[A\n",
            "\n",
            " 98%|█████████▊| 20622/21000 [00:07<00:00, 2906.54it/s]\u001b[A\u001b[A\n",
            "\n",
            "100%|█████████▉| 20915/21000 [00:07<00:00, 2912.71it/s]\u001b[A\u001b[A\n",
            "\n",
            "100%|██████████| 21000/21000 [00:07<00:00, 2906.02it/s]\u001b[A\u001b[A"
          ],
          "name": "stderr"
        }
      ]
    },
    {
      "metadata": {
        "id": "8GorabEIpHq5",
        "colab_type": "code",
        "colab": {}
      },
      "cell_type": "code",
      "source": [
        "xtrain_glove = np.array(xtrain_glove)\n",
        "xvalid_glove = np.array(xvalid_glove)"
      ],
      "execution_count": 0,
      "outputs": []
    },
    {
      "metadata": {
        "id": "jaz3oK45r5xs",
        "colab_type": "code",
        "colab": {}
      },
      "cell_type": "code",
      "source": [
        "scl = preprocessing.StandardScaler()\n",
        "xtrain_glove_scl = scl.fit_transform(xtrain_glove)\n",
        "xvalid_glove_scl = scl.transform(xvalid_glove)"
      ],
      "execution_count": 0,
      "outputs": []
    },
    {
      "metadata": {
        "id": "J2fsDXyEr6ni",
        "colab_type": "code",
        "colab": {}
      },
      "cell_type": "code",
      "source": [
        "ytrain_enc = np_utils.to_categorical(ytrain)\n",
        "yvalid_enc = np_utils.to_categorical(yvalid)"
      ],
      "execution_count": 0,
      "outputs": []
    },
    {
      "metadata": {
        "id": "eMpkpYjysH-8",
        "colab_type": "code",
        "colab": {}
      },
      "cell_type": "code",
      "source": [
        "# using keras tokenizer here\n",
        "token = text.Tokenizer(num_words=None)\n",
        "max_len = 70\n",
        "\n",
        "token.fit_on_texts(list(xtrain) + list(xvalid))\n",
        "xtrain_seq = token.texts_to_sequences(xtrain)\n",
        "xvalid_seq = token.texts_to_sequences(xvalid)\n",
        "\n",
        "# zero pad the sequences\n",
        "xtrain_pad = sequence.pad_sequences(xtrain_seq, maxlen=max_len)\n",
        "xvalid_pad = sequence.pad_sequences(xvalid_seq, maxlen=max_len)\n",
        "\n",
        "word_index = token.word_index"
      ],
      "execution_count": 0,
      "outputs": []
    },
    {
      "metadata": {
        "id": "e01WqbAisK2i",
        "colab_type": "code",
        "outputId": "24d604f1-2e7b-4e1d-cda7-533ef7172088",
        "colab": {
          "base_uri": "https://localhost:8080/",
          "height": 139
        }
      },
      "cell_type": "code",
      "source": [
        "# create an embedding matrix for the words we have in the dataset\n",
        "embedding_matrix = np.zeros((len(word_index) + 1, 300))\n",
        "for word, i in tqdm(word_index.items()):\n",
        "    embedding_vector = embeddings_index.get(word)\n",
        "    if embedding_vector is not None:\n",
        "        embedding_matrix[i] = embedding_vector"
      ],
      "execution_count": 0,
      "outputs": [
        {
          "output_type": "stream",
          "text": [
            "\n",
            "\n",
            "  0%|          | 0/85530 [00:00<?, ?it/s]\u001b[A\u001b[A\n",
            "\n",
            " 44%|████▍     | 37714/85530 [00:00<00:00, 377130.47it/s]\u001b[A\u001b[A\n",
            "\n",
            "100%|██████████| 85530/85530 [00:00<00:00, 426515.05it/s]\u001b[A\u001b[A"
          ],
          "name": "stderr"
        }
      ]
    },
    {
      "metadata": {
        "id": "JcLFyc1CRkz4",
        "colab_type": "text"
      },
      "cell_type": "markdown",
      "source": [
        "## GRU"
      ]
    },
    {
      "metadata": {
        "id": "TrJLIFEXsT2V",
        "colab_type": "code",
        "outputId": "7f76b9e6-1ae1-4556-b023-6afed55ab957",
        "colab": {
          "base_uri": "https://localhost:8080/",
          "height": 1473
        }
      },
      "cell_type": "code",
      "source": [
        "# GRU with glove embeddings and two dense layers\n",
        "model = Sequential()\n",
        "model.add(Embedding(len(word_index) + 1,\n",
        "                     300,\n",
        "                     weights=[embedding_matrix],\n",
        "                     input_length=max_len,\n",
        "                     trainable=False))\n",
        "model.add(SpatialDropout1D(0.3))\n",
        "model.add(GRU(300, dropout=0.3, recurrent_dropout=0.3, return_sequences=True))\n",
        "model.add(GRU(300, dropout=0.3, recurrent_dropout=0.3))\n",
        "\n",
        "model.add(Dense(200, activation='relu'))\n",
        "model.add(Dropout(0.2))\n",
        "\n",
        "model.add(Dense(20))\n",
        "model.add(Activation('softmax'))\n",
        "model.compile(loss='categorical_crossentropy', optimizer='adam')\n",
        "\n",
        "# Fit the model with early stopping callback\n",
        "earlystop = EarlyStopping(monitor='val_loss', min_delta=0, patience=3, verbose=0, mode='auto')\n",
        "model.fit(xtrain_pad, y=ytrain_enc, batch_size=96, epochs=100, \n",
        "          verbose=1, validation_data=(xvalid_pad, yvalid_enc), callbacks=[earlystop])"
      ],
      "execution_count": 0,
      "outputs": [
        {
          "output_type": "error",
          "ename": "KeyboardInterrupt",
          "evalue": "ignored",
          "traceback": [
            "\u001b[0;31m---------------------------------------------------------------------------\u001b[0m",
            "\u001b[0;31mKeyboardInterrupt\u001b[0m                         Traceback (most recent call last)",
            "\u001b[0;32m<ipython-input-99-daeb10fb2a5d>\u001b[0m in \u001b[0;36m<module>\u001b[0;34m()\u001b[0m\n\u001b[1;32m      4\u001b[0m                      \u001b[0mweights\u001b[0m\u001b[0;34m=\u001b[0m\u001b[0;34m[\u001b[0m\u001b[0membedding_matrix\u001b[0m\u001b[0;34m]\u001b[0m\u001b[0;34m,\u001b[0m\u001b[0;34m\u001b[0m\u001b[0;34m\u001b[0m\u001b[0m\n\u001b[1;32m      5\u001b[0m                      \u001b[0minput_length\u001b[0m\u001b[0;34m=\u001b[0m\u001b[0mmax_len\u001b[0m\u001b[0;34m,\u001b[0m\u001b[0;34m\u001b[0m\u001b[0;34m\u001b[0m\u001b[0m\n\u001b[0;32m----> 6\u001b[0;31m                      trainable=False))\n\u001b[0m\u001b[1;32m      7\u001b[0m \u001b[0mmodel\u001b[0m\u001b[0;34m.\u001b[0m\u001b[0madd\u001b[0m\u001b[0;34m(\u001b[0m\u001b[0mSpatialDropout1D\u001b[0m\u001b[0;34m(\u001b[0m\u001b[0;36m0.3\u001b[0m\u001b[0;34m)\u001b[0m\u001b[0;34m)\u001b[0m\u001b[0;34m\u001b[0m\u001b[0;34m\u001b[0m\u001b[0m\n\u001b[1;32m      8\u001b[0m \u001b[0mmodel\u001b[0m\u001b[0;34m.\u001b[0m\u001b[0madd\u001b[0m\u001b[0;34m(\u001b[0m\u001b[0mGRU\u001b[0m\u001b[0;34m(\u001b[0m\u001b[0;36m300\u001b[0m\u001b[0;34m,\u001b[0m \u001b[0mdropout\u001b[0m\u001b[0;34m=\u001b[0m\u001b[0;36m0.3\u001b[0m\u001b[0;34m,\u001b[0m \u001b[0mrecurrent_dropout\u001b[0m\u001b[0;34m=\u001b[0m\u001b[0;36m0.3\u001b[0m\u001b[0;34m,\u001b[0m \u001b[0mreturn_sequences\u001b[0m\u001b[0;34m=\u001b[0m\u001b[0;32mTrue\u001b[0m\u001b[0;34m)\u001b[0m\u001b[0;34m)\u001b[0m\u001b[0;34m\u001b[0m\u001b[0;34m\u001b[0m\u001b[0m\n",
            "\u001b[0;32m/usr/local/lib/python3.6/dist-packages/keras/engine/sequential.py\u001b[0m in \u001b[0;36madd\u001b[0;34m(self, layer)\u001b[0m\n\u001b[1;32m    163\u001b[0m                     \u001b[0;31m# and create the node connecting the current layer\u001b[0m\u001b[0;34m\u001b[0m\u001b[0;34m\u001b[0m\u001b[0;34m\u001b[0m\u001b[0m\n\u001b[1;32m    164\u001b[0m                     \u001b[0;31m# to the input layer we just created.\u001b[0m\u001b[0;34m\u001b[0m\u001b[0;34m\u001b[0m\u001b[0;34m\u001b[0m\u001b[0m\n\u001b[0;32m--> 165\u001b[0;31m                     \u001b[0mlayer\u001b[0m\u001b[0;34m(\u001b[0m\u001b[0mx\u001b[0m\u001b[0;34m)\u001b[0m\u001b[0;34m\u001b[0m\u001b[0;34m\u001b[0m\u001b[0m\n\u001b[0m\u001b[1;32m    166\u001b[0m                     \u001b[0mset_inputs\u001b[0m \u001b[0;34m=\u001b[0m \u001b[0;32mTrue\u001b[0m\u001b[0;34m\u001b[0m\u001b[0;34m\u001b[0m\u001b[0m\n\u001b[1;32m    167\u001b[0m             \u001b[0;32melse\u001b[0m\u001b[0;34m:\u001b[0m\u001b[0;34m\u001b[0m\u001b[0;34m\u001b[0m\u001b[0m\n",
            "\u001b[0;32m/usr/local/lib/python3.6/dist-packages/keras/engine/base_layer.py\u001b[0m in \u001b[0;36m__call__\u001b[0;34m(self, inputs, **kwargs)\u001b[0m\n\u001b[1;32m    434\u001b[0m                 \u001b[0;31m# Load weights that were specified at layer instantiation.\u001b[0m\u001b[0;34m\u001b[0m\u001b[0;34m\u001b[0m\u001b[0;34m\u001b[0m\u001b[0m\n\u001b[1;32m    435\u001b[0m                 \u001b[0;32mif\u001b[0m \u001b[0mself\u001b[0m\u001b[0;34m.\u001b[0m\u001b[0m_initial_weights\u001b[0m \u001b[0;32mis\u001b[0m \u001b[0;32mnot\u001b[0m \u001b[0;32mNone\u001b[0m\u001b[0;34m:\u001b[0m\u001b[0;34m\u001b[0m\u001b[0;34m\u001b[0m\u001b[0m\n\u001b[0;32m--> 436\u001b[0;31m                     \u001b[0mself\u001b[0m\u001b[0;34m.\u001b[0m\u001b[0mset_weights\u001b[0m\u001b[0;34m(\u001b[0m\u001b[0mself\u001b[0m\u001b[0;34m.\u001b[0m\u001b[0m_initial_weights\u001b[0m\u001b[0;34m)\u001b[0m\u001b[0;34m\u001b[0m\u001b[0;34m\u001b[0m\u001b[0m\n\u001b[0m\u001b[1;32m    437\u001b[0m \u001b[0;34m\u001b[0m\u001b[0m\n\u001b[1;32m    438\u001b[0m             \u001b[0;31m# Raise exceptions in case the input is not compatible\u001b[0m\u001b[0;34m\u001b[0m\u001b[0;34m\u001b[0m\u001b[0;34m\u001b[0m\u001b[0m\n",
            "\u001b[0;32m/usr/local/lib/python3.6/dist-packages/keras/engine/base_layer.py\u001b[0m in \u001b[0;36mset_weights\u001b[0;34m(self, weights)\u001b[0m\n\u001b[1;32m   1057\u001b[0m                                  'provided weight shape ' + str(w.shape))\n\u001b[1;32m   1058\u001b[0m             \u001b[0mweight_value_tuples\u001b[0m\u001b[0;34m.\u001b[0m\u001b[0mappend\u001b[0m\u001b[0;34m(\u001b[0m\u001b[0;34m(\u001b[0m\u001b[0mp\u001b[0m\u001b[0;34m,\u001b[0m \u001b[0mw\u001b[0m\u001b[0;34m)\u001b[0m\u001b[0;34m)\u001b[0m\u001b[0;34m\u001b[0m\u001b[0;34m\u001b[0m\u001b[0m\n\u001b[0;32m-> 1059\u001b[0;31m         \u001b[0mK\u001b[0m\u001b[0;34m.\u001b[0m\u001b[0mbatch_set_value\u001b[0m\u001b[0;34m(\u001b[0m\u001b[0mweight_value_tuples\u001b[0m\u001b[0;34m)\u001b[0m\u001b[0;34m\u001b[0m\u001b[0;34m\u001b[0m\u001b[0m\n\u001b[0m\u001b[1;32m   1060\u001b[0m \u001b[0;34m\u001b[0m\u001b[0m\n\u001b[1;32m   1061\u001b[0m     \u001b[0;32mdef\u001b[0m \u001b[0mget_weights\u001b[0m\u001b[0;34m(\u001b[0m\u001b[0mself\u001b[0m\u001b[0;34m)\u001b[0m\u001b[0;34m:\u001b[0m\u001b[0;34m\u001b[0m\u001b[0;34m\u001b[0m\u001b[0m\n",
            "\u001b[0;32m/usr/local/lib/python3.6/dist-packages/keras/backend/tensorflow_backend.py\u001b[0m in \u001b[0;36mbatch_set_value\u001b[0;34m(tuples)\u001b[0m\n\u001b[1;32m   2468\u001b[0m             \u001b[0massign_ops\u001b[0m\u001b[0;34m.\u001b[0m\u001b[0mappend\u001b[0m\u001b[0;34m(\u001b[0m\u001b[0massign_op\u001b[0m\u001b[0;34m)\u001b[0m\u001b[0;34m\u001b[0m\u001b[0;34m\u001b[0m\u001b[0m\n\u001b[1;32m   2469\u001b[0m             \u001b[0mfeed_dict\u001b[0m\u001b[0;34m[\u001b[0m\u001b[0massign_placeholder\u001b[0m\u001b[0;34m]\u001b[0m \u001b[0;34m=\u001b[0m \u001b[0mvalue\u001b[0m\u001b[0;34m\u001b[0m\u001b[0;34m\u001b[0m\u001b[0m\n\u001b[0;32m-> 2470\u001b[0;31m         \u001b[0mget_session\u001b[0m\u001b[0;34m(\u001b[0m\u001b[0;34m)\u001b[0m\u001b[0;34m.\u001b[0m\u001b[0mrun\u001b[0m\u001b[0;34m(\u001b[0m\u001b[0massign_ops\u001b[0m\u001b[0;34m,\u001b[0m \u001b[0mfeed_dict\u001b[0m\u001b[0;34m=\u001b[0m\u001b[0mfeed_dict\u001b[0m\u001b[0;34m)\u001b[0m\u001b[0;34m\u001b[0m\u001b[0;34m\u001b[0m\u001b[0m\n\u001b[0m\u001b[1;32m   2471\u001b[0m \u001b[0;34m\u001b[0m\u001b[0m\n\u001b[1;32m   2472\u001b[0m \u001b[0;34m\u001b[0m\u001b[0m\n",
            "\u001b[0;32m/usr/local/lib/python3.6/dist-packages/tensorflow/python/client/session.py\u001b[0m in \u001b[0;36mrun\u001b[0;34m(self, fetches, feed_dict, options, run_metadata)\u001b[0m\n\u001b[1;32m    927\u001b[0m     \u001b[0;32mtry\u001b[0m\u001b[0;34m:\u001b[0m\u001b[0;34m\u001b[0m\u001b[0;34m\u001b[0m\u001b[0m\n\u001b[1;32m    928\u001b[0m       result = self._run(None, fetches, feed_dict, options_ptr,\n\u001b[0;32m--> 929\u001b[0;31m                          run_metadata_ptr)\n\u001b[0m\u001b[1;32m    930\u001b[0m       \u001b[0;32mif\u001b[0m \u001b[0mrun_metadata\u001b[0m\u001b[0;34m:\u001b[0m\u001b[0;34m\u001b[0m\u001b[0;34m\u001b[0m\u001b[0m\n\u001b[1;32m    931\u001b[0m         \u001b[0mproto_data\u001b[0m \u001b[0;34m=\u001b[0m \u001b[0mtf_session\u001b[0m\u001b[0;34m.\u001b[0m\u001b[0mTF_GetBuffer\u001b[0m\u001b[0;34m(\u001b[0m\u001b[0mrun_metadata_ptr\u001b[0m\u001b[0;34m)\u001b[0m\u001b[0;34m\u001b[0m\u001b[0;34m\u001b[0m\u001b[0m\n",
            "\u001b[0;32m/usr/local/lib/python3.6/dist-packages/tensorflow/python/client/session.py\u001b[0m in \u001b[0;36m_run\u001b[0;34m(self, handle, fetches, feed_dict, options, run_metadata)\u001b[0m\n\u001b[1;32m   1150\u001b[0m     \u001b[0;32mif\u001b[0m \u001b[0mfinal_fetches\u001b[0m \u001b[0;32mor\u001b[0m \u001b[0mfinal_targets\u001b[0m \u001b[0;32mor\u001b[0m \u001b[0;34m(\u001b[0m\u001b[0mhandle\u001b[0m \u001b[0;32mand\u001b[0m \u001b[0mfeed_dict_tensor\u001b[0m\u001b[0;34m)\u001b[0m\u001b[0;34m:\u001b[0m\u001b[0;34m\u001b[0m\u001b[0;34m\u001b[0m\u001b[0m\n\u001b[1;32m   1151\u001b[0m       results = self._do_run(handle, final_targets, final_fetches,\n\u001b[0;32m-> 1152\u001b[0;31m                              feed_dict_tensor, options, run_metadata)\n\u001b[0m\u001b[1;32m   1153\u001b[0m     \u001b[0;32melse\u001b[0m\u001b[0;34m:\u001b[0m\u001b[0;34m\u001b[0m\u001b[0;34m\u001b[0m\u001b[0m\n\u001b[1;32m   1154\u001b[0m       \u001b[0mresults\u001b[0m \u001b[0;34m=\u001b[0m \u001b[0;34m[\u001b[0m\u001b[0;34m]\u001b[0m\u001b[0;34m\u001b[0m\u001b[0;34m\u001b[0m\u001b[0m\n",
            "\u001b[0;32m/usr/local/lib/python3.6/dist-packages/tensorflow/python/client/session.py\u001b[0m in \u001b[0;36m_do_run\u001b[0;34m(self, handle, target_list, fetch_list, feed_dict, options, run_metadata)\u001b[0m\n\u001b[1;32m   1326\u001b[0m     \u001b[0;32mif\u001b[0m \u001b[0mhandle\u001b[0m \u001b[0;32mis\u001b[0m \u001b[0;32mNone\u001b[0m\u001b[0;34m:\u001b[0m\u001b[0;34m\u001b[0m\u001b[0;34m\u001b[0m\u001b[0m\n\u001b[1;32m   1327\u001b[0m       return self._do_call(_run_fn, feeds, fetches, targets, options,\n\u001b[0;32m-> 1328\u001b[0;31m                            run_metadata)\n\u001b[0m\u001b[1;32m   1329\u001b[0m     \u001b[0;32melse\u001b[0m\u001b[0;34m:\u001b[0m\u001b[0;34m\u001b[0m\u001b[0;34m\u001b[0m\u001b[0m\n\u001b[1;32m   1330\u001b[0m       \u001b[0;32mreturn\u001b[0m \u001b[0mself\u001b[0m\u001b[0;34m.\u001b[0m\u001b[0m_do_call\u001b[0m\u001b[0;34m(\u001b[0m\u001b[0m_prun_fn\u001b[0m\u001b[0;34m,\u001b[0m \u001b[0mhandle\u001b[0m\u001b[0;34m,\u001b[0m \u001b[0mfeeds\u001b[0m\u001b[0;34m,\u001b[0m \u001b[0mfetches\u001b[0m\u001b[0;34m)\u001b[0m\u001b[0;34m\u001b[0m\u001b[0;34m\u001b[0m\u001b[0m\n",
            "\u001b[0;32m/usr/local/lib/python3.6/dist-packages/tensorflow/python/client/session.py\u001b[0m in \u001b[0;36m_do_call\u001b[0;34m(self, fn, *args)\u001b[0m\n\u001b[1;32m   1332\u001b[0m   \u001b[0;32mdef\u001b[0m \u001b[0m_do_call\u001b[0m\u001b[0;34m(\u001b[0m\u001b[0mself\u001b[0m\u001b[0;34m,\u001b[0m \u001b[0mfn\u001b[0m\u001b[0;34m,\u001b[0m \u001b[0;34m*\u001b[0m\u001b[0margs\u001b[0m\u001b[0;34m)\u001b[0m\u001b[0;34m:\u001b[0m\u001b[0;34m\u001b[0m\u001b[0;34m\u001b[0m\u001b[0m\n\u001b[1;32m   1333\u001b[0m     \u001b[0;32mtry\u001b[0m\u001b[0;34m:\u001b[0m\u001b[0;34m\u001b[0m\u001b[0;34m\u001b[0m\u001b[0m\n\u001b[0;32m-> 1334\u001b[0;31m       \u001b[0;32mreturn\u001b[0m \u001b[0mfn\u001b[0m\u001b[0;34m(\u001b[0m\u001b[0;34m*\u001b[0m\u001b[0margs\u001b[0m\u001b[0;34m)\u001b[0m\u001b[0;34m\u001b[0m\u001b[0;34m\u001b[0m\u001b[0m\n\u001b[0m\u001b[1;32m   1335\u001b[0m     \u001b[0;32mexcept\u001b[0m \u001b[0merrors\u001b[0m\u001b[0;34m.\u001b[0m\u001b[0mOpError\u001b[0m \u001b[0;32mas\u001b[0m \u001b[0me\u001b[0m\u001b[0;34m:\u001b[0m\u001b[0;34m\u001b[0m\u001b[0;34m\u001b[0m\u001b[0m\n\u001b[1;32m   1336\u001b[0m       \u001b[0mmessage\u001b[0m \u001b[0;34m=\u001b[0m \u001b[0mcompat\u001b[0m\u001b[0;34m.\u001b[0m\u001b[0mas_text\u001b[0m\u001b[0;34m(\u001b[0m\u001b[0me\u001b[0m\u001b[0;34m.\u001b[0m\u001b[0mmessage\u001b[0m\u001b[0;34m)\u001b[0m\u001b[0;34m\u001b[0m\u001b[0;34m\u001b[0m\u001b[0m\n",
            "\u001b[0;32m/usr/local/lib/python3.6/dist-packages/tensorflow/python/client/session.py\u001b[0m in \u001b[0;36m_run_fn\u001b[0;34m(feed_dict, fetch_list, target_list, options, run_metadata)\u001b[0m\n\u001b[1;32m   1317\u001b[0m       \u001b[0mself\u001b[0m\u001b[0;34m.\u001b[0m\u001b[0m_extend_graph\u001b[0m\u001b[0;34m(\u001b[0m\u001b[0;34m)\u001b[0m\u001b[0;34m\u001b[0m\u001b[0;34m\u001b[0m\u001b[0m\n\u001b[1;32m   1318\u001b[0m       return self._call_tf_sessionrun(\n\u001b[0;32m-> 1319\u001b[0;31m           options, feed_dict, fetch_list, target_list, run_metadata)\n\u001b[0m\u001b[1;32m   1320\u001b[0m \u001b[0;34m\u001b[0m\u001b[0m\n\u001b[1;32m   1321\u001b[0m     \u001b[0;32mdef\u001b[0m \u001b[0m_prun_fn\u001b[0m\u001b[0;34m(\u001b[0m\u001b[0mhandle\u001b[0m\u001b[0;34m,\u001b[0m \u001b[0mfeed_dict\u001b[0m\u001b[0;34m,\u001b[0m \u001b[0mfetch_list\u001b[0m\u001b[0;34m)\u001b[0m\u001b[0;34m:\u001b[0m\u001b[0;34m\u001b[0m\u001b[0;34m\u001b[0m\u001b[0m\n",
            "\u001b[0;32m/usr/local/lib/python3.6/dist-packages/tensorflow/python/client/session.py\u001b[0m in \u001b[0;36m_call_tf_sessionrun\u001b[0;34m(self, options, feed_dict, fetch_list, target_list, run_metadata)\u001b[0m\n\u001b[1;32m   1405\u001b[0m     return tf_session.TF_SessionRun_wrapper(\n\u001b[1;32m   1406\u001b[0m         \u001b[0mself\u001b[0m\u001b[0;34m.\u001b[0m\u001b[0m_session\u001b[0m\u001b[0;34m,\u001b[0m \u001b[0moptions\u001b[0m\u001b[0;34m,\u001b[0m \u001b[0mfeed_dict\u001b[0m\u001b[0;34m,\u001b[0m \u001b[0mfetch_list\u001b[0m\u001b[0;34m,\u001b[0m \u001b[0mtarget_list\u001b[0m\u001b[0;34m,\u001b[0m\u001b[0;34m\u001b[0m\u001b[0;34m\u001b[0m\u001b[0m\n\u001b[0;32m-> 1407\u001b[0;31m         run_metadata)\n\u001b[0m\u001b[1;32m   1408\u001b[0m \u001b[0;34m\u001b[0m\u001b[0m\n\u001b[1;32m   1409\u001b[0m   \u001b[0;32mdef\u001b[0m \u001b[0m_call_tf_sessionprun\u001b[0m\u001b[0;34m(\u001b[0m\u001b[0mself\u001b[0m\u001b[0;34m,\u001b[0m \u001b[0mhandle\u001b[0m\u001b[0;34m,\u001b[0m \u001b[0mfeed_dict\u001b[0m\u001b[0;34m,\u001b[0m \u001b[0mfetch_list\u001b[0m\u001b[0;34m)\u001b[0m\u001b[0;34m:\u001b[0m\u001b[0;34m\u001b[0m\u001b[0;34m\u001b[0m\u001b[0m\n",
            "\u001b[0;31mKeyboardInterrupt\u001b[0m: "
          ]
        }
      ]
    },
    {
      "metadata": {
        "id": "Lb8PvwXVQByA",
        "colab_type": "text"
      },
      "cell_type": "markdown",
      "source": [
        "## BiLSTM"
      ]
    },
    {
      "metadata": {
        "id": "XSrBao00flAU",
        "colab_type": "code",
        "colab": {}
      },
      "cell_type": "code",
      "source": [
        "xtotal, ytotal = df_new.TEXT.values, y"
      ],
      "execution_count": 0,
      "outputs": []
    },
    {
      "metadata": {
        "id": "B2Mu4Yqkf2BC",
        "colab_type": "code",
        "colab": {}
      },
      "cell_type": "code",
      "source": [
        "xtotal_glove = [sent2vec(x) for x in tqdm(xtotal)]\n",
        "xtotal_glove_scl = scl.fit_transform(xtotal_glove)\n",
        "ytotal_enc = np_utils.to_categorical(ytotal)\n",
        "token = text.Tokenizer(num_words=None)\n",
        "max_len = 70\n",
        "\n",
        "token.fit_on_texts(xtotal)\n",
        "xtotal_seq = token.texts_to_sequences(xtotal)\n",
        "\n",
        "# zero pad the sequences\n",
        "xtotal_pad = sequence.pad_sequences(xtotal_seq, maxlen=max_len)\n",
        "\n",
        "word_index = token.word_index"
      ],
      "execution_count": 0,
      "outputs": []
    },
    {
      "metadata": {
        "id": "VT6TXVN1gUP8",
        "colab_type": "code",
        "colab": {}
      },
      "cell_type": "code",
      "source": [
        "# create an embedding matrix for the words we have in the dataset\n",
        "embedding_matrix = np.zeros((len(word_index) + 1, 300))\n",
        "for word, i in tqdm(word_index.items()):\n",
        "    embedding_vector = embeddings_index.get(word)\n",
        "    if embedding_vector is not None:\n",
        "        embedding_matrix[i] = embedding_vector"
      ],
      "execution_count": 0,
      "outputs": []
    },
    {
      "metadata": {
        "id": "BhhQ49EZOsf_",
        "colab_type": "code",
        "outputId": "54cbf38c-1ccf-41ea-9c88-90ed82155652",
        "colab": {
          "base_uri": "https://localhost:8080/",
          "height": 1143
        }
      },
      "cell_type": "code",
      "source": [
        "from keras.optimizers import Adam\n",
        "\n",
        "model = Sequential()\n",
        "model.add(Embedding(len(word_index) + 1,\n",
        "                     300,\n",
        "                     weights=[embedding_matrix],\n",
        "                     input_length=max_len,\n",
        "                     trainable=False))\n",
        "model.add(SpatialDropout1D(0.3))\n",
        "model.add(Bidirectional(LSTM(128, dropout=0.2, recurrent_dropout=0.3, return_sequences=True)))\n",
        "model.add(Bidirectional(LSTM(128, dropout=0.2, recurrent_dropout=0.3)))\n",
        "\n",
        "#model.add(Dense(1024, activation='relu'))\n",
        "#model.add(Dropout(0.3))\n",
        "\n",
        "model.add(Dense(200, activation='relu'))\n",
        "model.add(Dropout(0.3))\n",
        "\n",
        "model.add(Dense(20))\n",
        "model.add(Activation('softmax'))\n",
        "model.compile(loss='categorical_crossentropy', optimizer='adam')\n",
        "\n",
        "# Fit the model with early stopping callback\n",
        "earlystop = EarlyStopping(monitor='val_loss', min_delta=0, patience=3, verbose=0, mode='auto')\n",
        "model.fit(xtotal_pad, y=ytotal_enc, batch_size=96, epochs=20, \n",
        "          verbose=1)"
      ],
      "execution_count": 0,
      "outputs": [
        {
          "output_type": "stream",
          "text": [
            "Epoch 1/20\n",
            "70000/70000 [==============================] - 482s 7ms/step - loss: 2.5106\n",
            "Epoch 2/20\n",
            "70000/70000 [==============================] - 461s 7ms/step - loss: 2.3599\n",
            "Epoch 3/20\n",
            "70000/70000 [==============================] - 461s 7ms/step - loss: 2.3006\n",
            "Epoch 4/20\n",
            "70000/70000 [==============================] - 466s 7ms/step - loss: 2.2583\n",
            "Epoch 5/20\n",
            "70000/70000 [==============================] - 471s 7ms/step - loss: 2.2288\n",
            "Epoch 6/20\n",
            "70000/70000 [==============================] - 462s 7ms/step - loss: 2.1988\n",
            "Epoch 7/20\n",
            "70000/70000 [==============================] - 463s 7ms/step - loss: 2.1728\n",
            "Epoch 8/20\n",
            "70000/70000 [==============================] - 468s 7ms/step - loss: 2.1461\n",
            "Epoch 9/20\n",
            "16608/70000 [======>.......................] - ETA: 5:55 - loss: 2.1111"
          ],
          "name": "stdout"
        },
        {
          "output_type": "error",
          "ename": "KeyboardInterrupt",
          "evalue": "ignored",
          "traceback": [
            "\u001b[0;31m---------------------------------------------------------------------------\u001b[0m",
            "\u001b[0;31mKeyboardInterrupt\u001b[0m                         Traceback (most recent call last)",
            "\u001b[0;32m<ipython-input-155-8091c782d69a>\u001b[0m in \u001b[0;36m<module>\u001b[0;34m()\u001b[0m\n\u001b[1;32m     24\u001b[0m \u001b[0mearlystop\u001b[0m \u001b[0;34m=\u001b[0m \u001b[0mEarlyStopping\u001b[0m\u001b[0;34m(\u001b[0m\u001b[0mmonitor\u001b[0m\u001b[0;34m=\u001b[0m\u001b[0;34m'val_loss'\u001b[0m\u001b[0;34m,\u001b[0m \u001b[0mmin_delta\u001b[0m\u001b[0;34m=\u001b[0m\u001b[0;36m0\u001b[0m\u001b[0;34m,\u001b[0m \u001b[0mpatience\u001b[0m\u001b[0;34m=\u001b[0m\u001b[0;36m3\u001b[0m\u001b[0;34m,\u001b[0m \u001b[0mverbose\u001b[0m\u001b[0;34m=\u001b[0m\u001b[0;36m0\u001b[0m\u001b[0;34m,\u001b[0m \u001b[0mmode\u001b[0m\u001b[0;34m=\u001b[0m\u001b[0;34m'auto'\u001b[0m\u001b[0;34m)\u001b[0m\u001b[0;34m\u001b[0m\u001b[0;34m\u001b[0m\u001b[0m\n\u001b[1;32m     25\u001b[0m model.fit(xtotal_pad, y=ytotal_enc, batch_size=96, epochs=20, \n\u001b[0;32m---> 26\u001b[0;31m           verbose=1)\n\u001b[0m",
            "\u001b[0;32m/usr/local/lib/python3.6/dist-packages/keras/engine/training.py\u001b[0m in \u001b[0;36mfit\u001b[0;34m(self, x, y, batch_size, epochs, verbose, callbacks, validation_split, validation_data, shuffle, class_weight, sample_weight, initial_epoch, steps_per_epoch, validation_steps, **kwargs)\u001b[0m\n\u001b[1;32m   1037\u001b[0m                                         \u001b[0minitial_epoch\u001b[0m\u001b[0;34m=\u001b[0m\u001b[0minitial_epoch\u001b[0m\u001b[0;34m,\u001b[0m\u001b[0;34m\u001b[0m\u001b[0;34m\u001b[0m\u001b[0m\n\u001b[1;32m   1038\u001b[0m                                         \u001b[0msteps_per_epoch\u001b[0m\u001b[0;34m=\u001b[0m\u001b[0msteps_per_epoch\u001b[0m\u001b[0;34m,\u001b[0m\u001b[0;34m\u001b[0m\u001b[0;34m\u001b[0m\u001b[0m\n\u001b[0;32m-> 1039\u001b[0;31m                                         validation_steps=validation_steps)\n\u001b[0m\u001b[1;32m   1040\u001b[0m \u001b[0;34m\u001b[0m\u001b[0m\n\u001b[1;32m   1041\u001b[0m     def evaluate(self, x=None, y=None,\n",
            "\u001b[0;32m/usr/local/lib/python3.6/dist-packages/keras/engine/training_arrays.py\u001b[0m in \u001b[0;36mfit_loop\u001b[0;34m(model, f, ins, out_labels, batch_size, epochs, verbose, callbacks, val_f, val_ins, shuffle, callback_metrics, initial_epoch, steps_per_epoch, validation_steps)\u001b[0m\n\u001b[1;32m    197\u001b[0m                     \u001b[0mins_batch\u001b[0m\u001b[0;34m[\u001b[0m\u001b[0mi\u001b[0m\u001b[0;34m]\u001b[0m \u001b[0;34m=\u001b[0m \u001b[0mins_batch\u001b[0m\u001b[0;34m[\u001b[0m\u001b[0mi\u001b[0m\u001b[0;34m]\u001b[0m\u001b[0;34m.\u001b[0m\u001b[0mtoarray\u001b[0m\u001b[0;34m(\u001b[0m\u001b[0;34m)\u001b[0m\u001b[0;34m\u001b[0m\u001b[0;34m\u001b[0m\u001b[0m\n\u001b[1;32m    198\u001b[0m \u001b[0;34m\u001b[0m\u001b[0m\n\u001b[0;32m--> 199\u001b[0;31m                 \u001b[0mouts\u001b[0m \u001b[0;34m=\u001b[0m \u001b[0mf\u001b[0m\u001b[0;34m(\u001b[0m\u001b[0mins_batch\u001b[0m\u001b[0;34m)\u001b[0m\u001b[0;34m\u001b[0m\u001b[0;34m\u001b[0m\u001b[0m\n\u001b[0m\u001b[1;32m    200\u001b[0m                 \u001b[0mouts\u001b[0m \u001b[0;34m=\u001b[0m \u001b[0mto_list\u001b[0m\u001b[0;34m(\u001b[0m\u001b[0mouts\u001b[0m\u001b[0;34m)\u001b[0m\u001b[0;34m\u001b[0m\u001b[0;34m\u001b[0m\u001b[0m\n\u001b[1;32m    201\u001b[0m                 \u001b[0;32mfor\u001b[0m \u001b[0ml\u001b[0m\u001b[0;34m,\u001b[0m \u001b[0mo\u001b[0m \u001b[0;32min\u001b[0m \u001b[0mzip\u001b[0m\u001b[0;34m(\u001b[0m\u001b[0mout_labels\u001b[0m\u001b[0;34m,\u001b[0m \u001b[0mouts\u001b[0m\u001b[0;34m)\u001b[0m\u001b[0;34m:\u001b[0m\u001b[0;34m\u001b[0m\u001b[0;34m\u001b[0m\u001b[0m\n",
            "\u001b[0;32m/usr/local/lib/python3.6/dist-packages/keras/backend/tensorflow_backend.py\u001b[0m in \u001b[0;36m__call__\u001b[0;34m(self, inputs)\u001b[0m\n\u001b[1;32m   2713\u001b[0m                 \u001b[0;32mreturn\u001b[0m \u001b[0mself\u001b[0m\u001b[0;34m.\u001b[0m\u001b[0m_legacy_call\u001b[0m\u001b[0;34m(\u001b[0m\u001b[0minputs\u001b[0m\u001b[0;34m)\u001b[0m\u001b[0;34m\u001b[0m\u001b[0;34m\u001b[0m\u001b[0m\n\u001b[1;32m   2714\u001b[0m \u001b[0;34m\u001b[0m\u001b[0m\n\u001b[0;32m-> 2715\u001b[0;31m             \u001b[0;32mreturn\u001b[0m \u001b[0mself\u001b[0m\u001b[0;34m.\u001b[0m\u001b[0m_call\u001b[0m\u001b[0;34m(\u001b[0m\u001b[0minputs\u001b[0m\u001b[0;34m)\u001b[0m\u001b[0;34m\u001b[0m\u001b[0;34m\u001b[0m\u001b[0m\n\u001b[0m\u001b[1;32m   2716\u001b[0m         \u001b[0;32melse\u001b[0m\u001b[0;34m:\u001b[0m\u001b[0;34m\u001b[0m\u001b[0;34m\u001b[0m\u001b[0m\n\u001b[1;32m   2717\u001b[0m             \u001b[0;32mif\u001b[0m \u001b[0mpy_any\u001b[0m\u001b[0;34m(\u001b[0m\u001b[0mis_tensor\u001b[0m\u001b[0;34m(\u001b[0m\u001b[0mx\u001b[0m\u001b[0;34m)\u001b[0m \u001b[0;32mfor\u001b[0m \u001b[0mx\u001b[0m \u001b[0;32min\u001b[0m \u001b[0minputs\u001b[0m\u001b[0;34m)\u001b[0m\u001b[0;34m:\u001b[0m\u001b[0;34m\u001b[0m\u001b[0;34m\u001b[0m\u001b[0m\n",
            "\u001b[0;32m/usr/local/lib/python3.6/dist-packages/keras/backend/tensorflow_backend.py\u001b[0m in \u001b[0;36m_call\u001b[0;34m(self, inputs)\u001b[0m\n\u001b[1;32m   2673\u001b[0m             \u001b[0mfetched\u001b[0m \u001b[0;34m=\u001b[0m \u001b[0mself\u001b[0m\u001b[0;34m.\u001b[0m\u001b[0m_callable_fn\u001b[0m\u001b[0;34m(\u001b[0m\u001b[0;34m*\u001b[0m\u001b[0marray_vals\u001b[0m\u001b[0;34m,\u001b[0m \u001b[0mrun_metadata\u001b[0m\u001b[0;34m=\u001b[0m\u001b[0mself\u001b[0m\u001b[0;34m.\u001b[0m\u001b[0mrun_metadata\u001b[0m\u001b[0;34m)\u001b[0m\u001b[0;34m\u001b[0m\u001b[0;34m\u001b[0m\u001b[0m\n\u001b[1;32m   2674\u001b[0m         \u001b[0;32melse\u001b[0m\u001b[0;34m:\u001b[0m\u001b[0;34m\u001b[0m\u001b[0;34m\u001b[0m\u001b[0m\n\u001b[0;32m-> 2675\u001b[0;31m             \u001b[0mfetched\u001b[0m \u001b[0;34m=\u001b[0m \u001b[0mself\u001b[0m\u001b[0;34m.\u001b[0m\u001b[0m_callable_fn\u001b[0m\u001b[0;34m(\u001b[0m\u001b[0;34m*\u001b[0m\u001b[0marray_vals\u001b[0m\u001b[0;34m)\u001b[0m\u001b[0;34m\u001b[0m\u001b[0;34m\u001b[0m\u001b[0m\n\u001b[0m\u001b[1;32m   2676\u001b[0m         \u001b[0;32mreturn\u001b[0m \u001b[0mfetched\u001b[0m\u001b[0;34m[\u001b[0m\u001b[0;34m:\u001b[0m\u001b[0mlen\u001b[0m\u001b[0;34m(\u001b[0m\u001b[0mself\u001b[0m\u001b[0;34m.\u001b[0m\u001b[0moutputs\u001b[0m\u001b[0;34m)\u001b[0m\u001b[0;34m]\u001b[0m\u001b[0;34m\u001b[0m\u001b[0;34m\u001b[0m\u001b[0m\n\u001b[1;32m   2677\u001b[0m \u001b[0;34m\u001b[0m\u001b[0m\n",
            "\u001b[0;32m/usr/local/lib/python3.6/dist-packages/tensorflow/python/client/session.py\u001b[0m in \u001b[0;36m__call__\u001b[0;34m(self, *args, **kwargs)\u001b[0m\n\u001b[1;32m   1437\u001b[0m           ret = tf_session.TF_SessionRunCallable(\n\u001b[1;32m   1438\u001b[0m               \u001b[0mself\u001b[0m\u001b[0;34m.\u001b[0m\u001b[0m_session\u001b[0m\u001b[0;34m.\u001b[0m\u001b[0m_session\u001b[0m\u001b[0;34m,\u001b[0m \u001b[0mself\u001b[0m\u001b[0;34m.\u001b[0m\u001b[0m_handle\u001b[0m\u001b[0;34m,\u001b[0m \u001b[0margs\u001b[0m\u001b[0;34m,\u001b[0m \u001b[0mstatus\u001b[0m\u001b[0;34m,\u001b[0m\u001b[0;34m\u001b[0m\u001b[0;34m\u001b[0m\u001b[0m\n\u001b[0;32m-> 1439\u001b[0;31m               run_metadata_ptr)\n\u001b[0m\u001b[1;32m   1440\u001b[0m         \u001b[0;32mif\u001b[0m \u001b[0mrun_metadata\u001b[0m\u001b[0;34m:\u001b[0m\u001b[0;34m\u001b[0m\u001b[0;34m\u001b[0m\u001b[0m\n\u001b[1;32m   1441\u001b[0m           \u001b[0mproto_data\u001b[0m \u001b[0;34m=\u001b[0m \u001b[0mtf_session\u001b[0m\u001b[0;34m.\u001b[0m\u001b[0mTF_GetBuffer\u001b[0m\u001b[0;34m(\u001b[0m\u001b[0mrun_metadata_ptr\u001b[0m\u001b[0;34m)\u001b[0m\u001b[0;34m\u001b[0m\u001b[0;34m\u001b[0m\u001b[0m\n",
            "\u001b[0;31mKeyboardInterrupt\u001b[0m: "
          ]
        }
      ]
    },
    {
      "metadata": {
        "id": "BOQP75VLXbT9",
        "colab_type": "text"
      },
      "cell_type": "markdown",
      "source": [
        "## BiLSTM Kaggle"
      ]
    },
    {
      "metadata": {
        "id": "47Yxh05-XdRD",
        "colab_type": "code",
        "outputId": "ea7fc662-34aa-4cd9-9e23-e58bb62d034e",
        "colab": {
          "base_uri": "https://localhost:8080/",
          "height": 538
        }
      },
      "cell_type": "code",
      "source": [
        "# A simple bidirectional LSTM with glove embeddings and two dense layers\n",
        "model = Sequential()\n",
        "model.add(Embedding(len(word_index) + 1,\n",
        "                     300,\n",
        "                     weights=[embedding_matrix],\n",
        "                     input_length=max_len,\n",
        "                     trainable=False))\n",
        "model.add(SpatialDropout1D(0.3))\n",
        "model.add(Bidirectional(LSTM(300, dropout=0.3, recurrent_dropout=0.3)))\n",
        "\n",
        "# model.add(Dense(1024, activation='relu'))\n",
        "# model.add(Dropout(0.8))\n",
        "\n",
        "model.add(Dense(200, activation='relu'))\n",
        "model.add(Dropout(0.2))\n",
        "\n",
        "model.add(Dense(20))\n",
        "model.add(Activation('softmax'))\n",
        "model.compile(loss='categorical_crossentropy', optimizer='adam')\n",
        "\n",
        "# Fit the model with early stopping callback\n",
        "earlystop = EarlyStopping(monitor='val_loss', min_delta=0, patience=3, verbose=0, mode='auto')\n",
        "model.fit(xtrain_pad, y=ytrain_enc, batch_size=512, epochs=100, \n",
        "          verbose=1, validation_data=(xvalid_pad, yvalid_enc), callbacks=[earlystop])"
      ],
      "execution_count": 0,
      "outputs": [
        {
          "output_type": "stream",
          "text": [
            "Train on 49000 samples, validate on 21000 samples\n",
            "Epoch 1/100\n",
            "49000/49000 [==============================] - 64s 1ms/step - loss: 2.6262 - val_loss: 2.4194\n",
            "Epoch 2/100\n",
            "49000/49000 [==============================] - 55s 1ms/step - loss: 2.4439 - val_loss: 2.3413\n",
            "Epoch 3/100\n",
            "49000/49000 [==============================] - 55s 1ms/step - loss: 2.3825 - val_loss: 2.3055\n",
            "Epoch 4/100\n",
            "49000/49000 [==============================] - 55s 1ms/step - loss: 2.3408 - val_loss: 2.2795\n",
            "Epoch 5/100\n",
            "49000/49000 [==============================] - 55s 1ms/step - loss: 2.3016 - val_loss: 2.2653\n",
            "Epoch 6/100\n",
            "49000/49000 [==============================] - 55s 1ms/step - loss: 2.2773 - val_loss: 2.2477\n",
            "Epoch 7/100\n",
            "49000/49000 [==============================] - 54s 1ms/step - loss: 2.2506 - val_loss: 2.2364\n",
            "Epoch 8/100\n",
            "49000/49000 [==============================] - 54s 1ms/step - loss: 2.2236 - val_loss: 2.2364\n",
            "Epoch 9/100\n",
            "49000/49000 [==============================] - 55s 1ms/step - loss: 2.2075 - val_loss: 2.2262\n",
            "Epoch 10/100\n",
            "49000/49000 [==============================] - 54s 1ms/step - loss: 2.1838 - val_loss: 2.2241\n",
            "Epoch 11/100\n",
            "49000/49000 [==============================] - 54s 1ms/step - loss: 2.1607 - val_loss: 2.2196\n",
            "Epoch 12/100\n",
            "49000/49000 [==============================] - 55s 1ms/step - loss: 2.1432 - val_loss: 2.2209\n",
            "Epoch 13/100\n",
            "49000/49000 [==============================] - 54s 1ms/step - loss: 2.1251 - val_loss: 2.2233\n",
            "Epoch 14/100\n",
            "49000/49000 [==============================] - 55s 1ms/step - loss: 2.1046 - val_loss: 2.2228\n"
          ],
          "name": "stdout"
        },
        {
          "output_type": "execute_result",
          "data": {
            "text/plain": [
              "<keras.callbacks.History at 0x7f4f3caef828>"
            ]
          },
          "metadata": {
            "tags": []
          },
          "execution_count": 113
        }
      ]
    },
    {
      "metadata": {
        "id": "6XfgL_GnQEyG",
        "colab_type": "text"
      },
      "cell_type": "markdown",
      "source": [
        "## Predictions"
      ]
    },
    {
      "metadata": {
        "id": "AtKoeK-as0J_",
        "colab_type": "code",
        "colab": {}
      },
      "cell_type": "code",
      "source": [
        "preds = model.predict(xvalid_pad)"
      ],
      "execution_count": 0,
      "outputs": []
    },
    {
      "metadata": {
        "id": "En2nz7jMzq4G",
        "colab_type": "code",
        "outputId": "5c6a82b9-cdb0-44f6-e920-5429b205fc23",
        "colab": {
          "base_uri": "https://localhost:8080/",
          "height": 34
        }
      },
      "cell_type": "code",
      "source": [
        "preds.shape"
      ],
      "execution_count": 0,
      "outputs": [
        {
          "output_type": "execute_result",
          "data": {
            "text/plain": [
              "(21000, 20)"
            ]
          },
          "metadata": {
            "tags": []
          },
          "execution_count": 48
        }
      ]
    },
    {
      "metadata": {
        "id": "wljmClYSCNha",
        "colab_type": "text"
      },
      "cell_type": "markdown",
      "source": [
        "Test 1 = 0.18446249324196778 ( dropout - 0.8, no 200 layer) \\\\\n",
        "Test 2 = 0.214 \\\\\n",
        "Test 3 = 0.22239185191649283 \\\\\n",
        "Test4 kaggle = 0.212"
      ]
    },
    {
      "metadata": {
        "id": "Ev7Xshw6y-zp",
        "colab_type": "code",
        "outputId": "c91df515-0cc1-49bf-9cc6-d0ec8c443069",
        "colab": {
          "base_uri": "https://localhost:8080/",
          "height": 34
        }
      },
      "cell_type": "code",
      "source": [
        "loss(yvalid, np.argmax(preds, axis=1), average='macro')"
      ],
      "execution_count": 0,
      "outputs": [
        {
          "output_type": "execute_result",
          "data": {
            "text/plain": [
              "0.21260058311881092"
            ]
          },
          "metadata": {
            "tags": []
          },
          "execution_count": 115
        }
      ]
    },
    {
      "metadata": {
        "id": "Eyzy_I3V1FSB",
        "colab_type": "code",
        "colab": {}
      },
      "cell_type": "code",
      "source": [
        "df = pd.read_csv(\"./Data/Test.csv\")"
      ],
      "execution_count": 0,
      "outputs": []
    },
    {
      "metadata": {
        "id": "aZwOvmqN1J95",
        "colab_type": "code",
        "colab": {}
      },
      "cell_type": "code",
      "source": [
        "xtest = df.TEXT.values"
      ],
      "execution_count": 0,
      "outputs": []
    },
    {
      "metadata": {
        "id": "A2e2gMsOzFhZ",
        "colab_type": "code",
        "outputId": "f0d53af7-67d6-4425-f2ad-9d2082572ab9",
        "colab": {
          "base_uri": "https://localhost:8080/",
          "height": 3126
        }
      },
      "cell_type": "code",
      "source": [
        "xtest_glove = [sent2vec(x) for x in tqdm(xtest)]\n",
        "xtest_glove = np.array(xtest_glove)\n",
        "xtest_glove_scl = scl.transform(xtest_glove)\n",
        "xtest_seq = token.texts_to_sequences(xtest)\n",
        "xtest_pad = sequence.pad_sequences(xtest_seq, maxlen=max_len)"
      ],
      "execution_count": 0,
      "outputs": [
        {
          "output_type": "stream",
          "text": [
            "\n",
            "\n",
            "  0%|          | 0/25958 [00:00<?, ?it/s]\u001b[A\u001b[A\n",
            "\n",
            "  1%|          | 297/25958 [00:00<00:08, 2964.91it/s]\u001b[A\u001b[A\n",
            "\n",
            "  2%|▏         | 593/25958 [00:00<00:08, 2962.24it/s]\u001b[A\u001b[A\n",
            "\n",
            "  3%|▎         | 900/25958 [00:00<00:08, 2993.59it/s]\u001b[A\u001b[A\n",
            "\n",
            "  5%|▍         | 1207/25958 [00:00<00:08, 3013.31it/s]\u001b[A\u001b[A\n",
            "\n",
            "  6%|▌         | 1493/25958 [00:00<00:08, 2965.41it/s]\u001b[A\u001b[A\n",
            "\n",
            "  7%|▋         | 1790/25958 [00:00<00:08, 2964.37it/s]\u001b[A\u001b[A\n",
            "\n",
            "  8%|▊         | 2061/25958 [00:00<00:08, 2880.43it/s]\u001b[A\u001b[A\n",
            "\n",
            "  9%|▉         | 2348/25958 [00:00<00:08, 2876.60it/s]\u001b[A\u001b[A\n",
            "\n",
            " 10%|█         | 2635/25958 [00:00<00:08, 2873.81it/s]\u001b[A\u001b[A\n",
            "\n",
            " 11%|█▏        | 2926/25958 [00:01<00:07, 2883.66it/s]\u001b[A\u001b[A\n",
            "\n",
            " 12%|█▏        | 3231/25958 [00:01<00:07, 2930.53it/s]\u001b[A\u001b[A\n",
            "\n",
            " 14%|█▎        | 3533/25958 [00:01<00:07, 2955.96it/s]\u001b[A\u001b[A\n",
            "\n",
            " 15%|█▍        | 3830/25958 [00:01<00:07, 2958.52it/s]\u001b[A\u001b[A\n",
            "\n",
            " 16%|█▌        | 4127/25958 [00:01<00:07, 2958.18it/s]\u001b[A\u001b[A\n",
            "\n",
            " 17%|█▋        | 4431/25958 [00:01<00:07, 2982.21it/s]\u001b[A\u001b[A\n",
            "\n",
            " 18%|█▊        | 4732/25958 [00:01<00:07, 2987.67it/s]\u001b[A\u001b[A\n",
            "\n",
            " 19%|█▉        | 5030/25958 [00:01<00:07, 2898.18it/s]\u001b[A\u001b[A\n",
            "\n",
            " 21%|██        | 5323/25958 [00:01<00:07, 2905.77it/s]\u001b[A\u001b[A\n",
            "\n",
            " 22%|██▏       | 5634/25958 [00:01<00:06, 2964.11it/s]\u001b[A\u001b[A\n",
            "\n",
            " 23%|██▎       | 5951/25958 [00:02<00:06, 3018.64it/s]\u001b[A\u001b[A\n",
            "\n",
            " 24%|██▍       | 6269/25958 [00:02<00:06, 3062.52it/s]\u001b[A\u001b[A\n",
            "\n",
            " 25%|██▌       | 6576/25958 [00:02<00:06, 3049.31it/s]\u001b[A\u001b[A\n",
            "\n",
            " 27%|██▋       | 6882/25958 [00:02<00:06, 3049.18it/s]\u001b[A\u001b[A\n",
            "\n",
            " 28%|██▊       | 7188/25958 [00:02<00:06, 2991.20it/s]\u001b[A\u001b[A\n",
            "\n",
            " 29%|██▉       | 7489/25958 [00:02<00:06, 2994.72it/s]\u001b[A\u001b[A\n",
            "\n",
            " 30%|███       | 7789/25958 [00:02<00:06, 2992.19it/s]\u001b[A\u001b[A\n",
            "\n",
            " 31%|███       | 8089/25958 [00:02<00:06, 2906.49it/s]\u001b[A\u001b[A\n",
            "\n",
            " 32%|███▏      | 8389/25958 [00:02<00:05, 2932.82it/s]\u001b[A\u001b[A\n",
            "\n",
            " 33%|███▎      | 8686/25958 [00:02<00:05, 2941.99it/s]\u001b[A\u001b[A\n",
            "\n",
            " 35%|███▍      | 8981/25958 [00:03<00:05, 2914.61it/s]\u001b[A\u001b[A\n",
            "\n",
            " 36%|███▌      | 9282/25958 [00:03<00:05, 2941.67it/s]\u001b[A\u001b[A\n",
            "\n",
            " 37%|███▋      | 9580/25958 [00:03<00:05, 2949.85it/s]\u001b[A\u001b[A\n",
            "\n",
            " 38%|███▊      | 9877/25958 [00:03<00:05, 2953.13it/s]\u001b[A\u001b[A\n",
            "\n",
            " 39%|███▉      | 10173/25958 [00:03<00:05, 2913.89it/s]\u001b[A\u001b[A\n",
            "\n",
            " 40%|████      | 10465/25958 [00:03<00:05, 2906.28it/s]\u001b[A\u001b[A\n",
            "\n",
            " 41%|████▏     | 10756/25958 [00:03<00:05, 2893.16it/s]\u001b[A\u001b[A\n",
            "\n",
            " 43%|████▎     | 11046/25958 [00:03<00:05, 2812.25it/s]\u001b[A\u001b[A\n",
            "\n",
            " 44%|████▎     | 11332/25958 [00:03<00:05, 2824.35it/s]\u001b[A\u001b[A\n",
            "\n",
            " 45%|████▍     | 11621/25958 [00:03<00:05, 2843.43it/s]\u001b[A\u001b[A\n",
            "\n",
            " 46%|████▌     | 11914/25958 [00:04<00:04, 2867.84it/s]\u001b[A\u001b[A\n",
            "\n",
            " 47%|████▋     | 12235/25958 [00:04<00:04, 2961.46it/s]\u001b[A\u001b[A\n",
            "\n",
            " 48%|████▊     | 12533/25958 [00:04<00:04, 2951.32it/s]\u001b[A\u001b[A\n",
            "\n",
            " 49%|████▉     | 12829/25958 [00:04<00:04, 2941.92it/s]\u001b[A\u001b[A\n",
            "\n",
            " 51%|█████     | 13140/25958 [00:04<00:04, 2989.72it/s]\u001b[A\u001b[A\n",
            "\n",
            " 52%|█████▏    | 13451/25958 [00:04<00:04, 3021.09it/s]\u001b[A\u001b[A\n",
            "\n",
            " 53%|█████▎    | 13758/25958 [00:04<00:04, 3033.26it/s]\u001b[A\u001b[A\n",
            "\n",
            " 54%|█████▍    | 14062/25958 [00:04<00:03, 3006.72it/s]\u001b[A\u001b[A\n",
            "\n",
            " 55%|█████▌    | 14363/25958 [00:04<00:03, 2918.86it/s]\u001b[A\u001b[A\n",
            "\n",
            " 56%|█████▋    | 14659/25958 [00:04<00:03, 2928.68it/s]\u001b[A\u001b[A\n",
            "\n",
            " 58%|█████▊    | 14953/25958 [00:05<00:03, 2919.99it/s]\u001b[A\u001b[A\n",
            "\n",
            " 59%|█████▊    | 15249/25958 [00:05<00:03, 2930.19it/s]\u001b[A\u001b[A\n",
            "\n",
            " 60%|█████▉    | 15543/25958 [00:05<00:03, 2917.59it/s]\u001b[A\u001b[A\n",
            "\n",
            " 61%|██████    | 15837/25958 [00:05<00:03, 2920.55it/s]\u001b[A\u001b[A\n",
            "\n",
            " 62%|██████▏   | 16130/25958 [00:05<00:03, 2911.32it/s]\u001b[A\u001b[A\n",
            "\n",
            " 63%|██████▎   | 16423/25958 [00:05<00:03, 2913.58it/s]\u001b[A\u001b[A\n",
            "\n",
            " 64%|██████▍   | 16715/25958 [00:05<00:03, 2812.46it/s]\u001b[A\u001b[A\n",
            "\n",
            " 65%|██████▌   | 16998/25958 [00:05<00:03, 2790.37it/s]\u001b[A\u001b[A\n",
            "\n",
            " 67%|██████▋   | 17278/25958 [00:05<00:03, 2749.33it/s]\u001b[A\u001b[A\n",
            "\n",
            " 68%|██████▊   | 17574/25958 [00:06<00:02, 2808.41it/s]\u001b[A\u001b[A\n",
            "\n",
            " 69%|██████▉   | 17872/25958 [00:06<00:02, 2855.90it/s]\u001b[A\u001b[A\n",
            "\n",
            " 70%|██████▉   | 18161/25958 [00:06<00:02, 2864.51it/s]\u001b[A\u001b[A\n",
            "\n",
            " 71%|███████   | 18448/25958 [00:06<00:02, 2857.09it/s]\u001b[A\u001b[A\n",
            "\n",
            " 72%|███████▏  | 18747/25958 [00:06<00:02, 2892.30it/s]\u001b[A\u001b[A\n",
            "\n",
            " 73%|███████▎  | 19038/25958 [00:06<00:02, 2897.36it/s]\u001b[A\u001b[A\n",
            "\n",
            " 74%|███████▍  | 19337/25958 [00:06<00:02, 2923.94it/s]\u001b[A\u001b[A\n",
            "\n",
            " 76%|███████▌  | 19634/25958 [00:06<00:02, 2937.10it/s]\u001b[A\u001b[A\n",
            "\n",
            " 77%|███████▋  | 19940/25958 [00:06<00:02, 2971.46it/s]\u001b[A\u001b[A\n",
            "\n",
            " 78%|███████▊  | 20238/25958 [00:06<00:02, 2852.19it/s]\u001b[A\u001b[A\n",
            "\n",
            " 79%|███████▉  | 20534/25958 [00:07<00:01, 2881.76it/s]\u001b[A\u001b[A\n",
            "\n",
            " 80%|████████  | 20824/25958 [00:07<00:01, 2859.55it/s]\u001b[A\u001b[A\n",
            "\n",
            " 81%|████████▏ | 21116/25958 [00:07<00:01, 2876.71it/s]\u001b[A\u001b[A\n",
            "\n",
            " 82%|████████▏ | 21413/25958 [00:07<00:01, 2901.35it/s]\u001b[A\u001b[A\n",
            "\n",
            " 84%|████████▎ | 21715/25958 [00:07<00:01, 2934.79it/s]\u001b[A\u001b[A\n",
            "\n",
            " 85%|████████▍ | 22023/25958 [00:07<00:01, 2976.28it/s]\u001b[A\u001b[A\n",
            "\n",
            " 86%|████████▌ | 22329/25958 [00:07<00:01, 2999.27it/s]\u001b[A\u001b[A\n",
            "\n",
            " 87%|████████▋ | 22630/25958 [00:07<00:01, 2984.41it/s]\u001b[A\u001b[A\n",
            "\n",
            " 88%|████████▊ | 22929/25958 [00:07<00:01, 2954.54it/s]\u001b[A\u001b[A\n",
            "\n",
            " 89%|████████▉ | 23225/25958 [00:07<00:00, 2890.16it/s]\u001b[A\u001b[A\n",
            "\n",
            " 91%|█████████ | 23518/25958 [00:08<00:00, 2900.02it/s]\u001b[A\u001b[A\n",
            "\n",
            " 92%|█████████▏| 23812/25958 [00:08<00:00, 2911.54it/s]\u001b[A\u001b[A\n",
            "\n",
            " 93%|█████████▎| 24109/25958 [00:08<00:00, 2926.31it/s]\u001b[A\u001b[A\n",
            "\n",
            " 94%|█████████▍| 24411/25958 [00:08<00:00, 2952.65it/s]\u001b[A\u001b[A\n",
            "\n",
            " 95%|█████████▌| 24707/25958 [00:08<00:00, 2927.66it/s]\u001b[A\u001b[A\n",
            "\n",
            " 96%|█████████▋| 25006/25958 [00:08<00:00, 2943.27it/s]\u001b[A\u001b[A\n",
            "\n",
            " 97%|█████████▋| 25304/25958 [00:08<00:00, 2950.90it/s]\u001b[A\u001b[A\n",
            "\n",
            " 99%|█████████▊| 25612/25958 [00:08<00:00, 2984.90it/s]\u001b[A\u001b[A\n",
            "\n",
            "100%|█████████▉| 25919/25958 [00:08<00:00, 3009.83it/s]\u001b[A\u001b[A\n",
            "\n",
            "100%|██████████| 25958/25958 [00:08<00:00, 2929.66it/s]\u001b[A\u001b[A"
          ],
          "name": "stderr"
        }
      ]
    },
    {
      "metadata": {
        "id": "mgjMfBjX1ts8",
        "colab_type": "code",
        "colab": {}
      },
      "cell_type": "code",
      "source": [
        "preds = model.predict(xtest_pad)"
      ],
      "execution_count": 0,
      "outputs": []
    },
    {
      "metadata": {
        "id": "Td9jqmho1yii",
        "colab_type": "code",
        "colab": {}
      },
      "cell_type": "code",
      "source": [
        "df.drop(\"Unnamed: 0\", axis=1, inplace=True)\n",
        "df.drop(\"TEXT\", axis=1, inplace=True)"
      ],
      "execution_count": 0,
      "outputs": []
    },
    {
      "metadata": {
        "id": "cq6zlFd62SD-",
        "colab_type": "code",
        "colab": {}
      },
      "cell_type": "code",
      "source": [
        "df[\"Label\"] = np.argmax(preds, axis=1)"
      ],
      "execution_count": 0,
      "outputs": []
    },
    {
      "metadata": {
        "id": "_wJy9ORE2Zbu",
        "colab_type": "code",
        "colab": {}
      },
      "cell_type": "code",
      "source": [
        "df.to_csv(\"Sub8fullhari.csv\", index=False)"
      ],
      "execution_count": 0,
      "outputs": []
    }
  ]
}